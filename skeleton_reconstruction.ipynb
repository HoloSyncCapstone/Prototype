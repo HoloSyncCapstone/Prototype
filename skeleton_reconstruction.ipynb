{
 "cells": [
  {
   "cell_type": "code",
   "execution_count": 6,
   "id": "3f1112e0-e784-4fb4-85b2-4356efa4cf04",
   "metadata": {},
   "outputs": [
    {
     "name": "stdout",
     "output_type": "stream",
     "text": [
      "Requirement already satisfied: pandas in /opt/homebrew/Cellar/jupyterlab/4.4.9/libexec/lib/python3.13/site-packages (2.3.3)\n",
      "Requirement already satisfied: numpy>=1.26.0 in /opt/homebrew/Cellar/jupyterlab/4.4.9/libexec/lib/python3.13/site-packages (from pandas) (2.3.3)\n",
      "Requirement already satisfied: python-dateutil>=2.8.2 in /opt/homebrew/Cellar/jupyterlab/4.4.9/libexec/lib/python3.13/site-packages (from pandas) (2.9.0.post0)\n",
      "Requirement already satisfied: pytz>=2020.1 in /opt/homebrew/Cellar/jupyterlab/4.4.9/libexec/lib/python3.13/site-packages (from pandas) (2025.2)\n",
      "Requirement already satisfied: tzdata>=2022.7 in /opt/homebrew/Cellar/jupyterlab/4.4.9/libexec/lib/python3.13/site-packages (from pandas) (2025.2)\n",
      "Requirement already satisfied: six>=1.5 in /opt/homebrew/Cellar/jupyterlab/4.4.9/libexec/lib/python3.13/site-packages (from python-dateutil>=2.8.2->pandas) (1.17.0)\n",
      "Note: you may need to restart the kernel to use updated packages.\n",
      "Requirement already satisfied: matplotlib in /opt/homebrew/Cellar/jupyterlab/4.4.9/libexec/lib/python3.13/site-packages (3.10.7)\n",
      "Requirement already satisfied: contourpy>=1.0.1 in /opt/homebrew/Cellar/jupyterlab/4.4.9/libexec/lib/python3.13/site-packages (from matplotlib) (1.3.3)\n",
      "Requirement already satisfied: cycler>=0.10 in /opt/homebrew/Cellar/jupyterlab/4.4.9/libexec/lib/python3.13/site-packages (from matplotlib) (0.12.1)\n",
      "Requirement already satisfied: fonttools>=4.22.0 in /opt/homebrew/Cellar/jupyterlab/4.4.9/libexec/lib/python3.13/site-packages (from matplotlib) (4.60.1)\n",
      "Requirement already satisfied: kiwisolver>=1.3.1 in /opt/homebrew/Cellar/jupyterlab/4.4.9/libexec/lib/python3.13/site-packages (from matplotlib) (1.4.9)\n",
      "Requirement already satisfied: numpy>=1.23 in /opt/homebrew/Cellar/jupyterlab/4.4.9/libexec/lib/python3.13/site-packages (from matplotlib) (2.3.3)\n",
      "Requirement already satisfied: packaging>=20.0 in /opt/homebrew/Cellar/jupyterlab/4.4.9/libexec/lib/python3.13/site-packages (from matplotlib) (25.0)\n",
      "Requirement already satisfied: pillow>=8 in /opt/homebrew/Cellar/jupyterlab/4.4.9/libexec/lib/python3.13/site-packages (from matplotlib) (11.3.0)\n",
      "Requirement already satisfied: pyparsing>=3 in /opt/homebrew/Cellar/jupyterlab/4.4.9/libexec/lib/python3.13/site-packages (from matplotlib) (3.2.5)\n",
      "Requirement already satisfied: python-dateutil>=2.7 in /opt/homebrew/Cellar/jupyterlab/4.4.9/libexec/lib/python3.13/site-packages (from matplotlib) (2.9.0.post0)\n",
      "Requirement already satisfied: six>=1.5 in /opt/homebrew/Cellar/jupyterlab/4.4.9/libexec/lib/python3.13/site-packages (from python-dateutil>=2.7->matplotlib) (1.17.0)\n",
      "Note: you may need to restart the kernel to use updated packages.\n",
      "Requirement already satisfied: plotly in /opt/homebrew/Cellar/jupyterlab/4.4.9/libexec/lib/python3.13/site-packages (6.3.1)\n",
      "Requirement already satisfied: narwhals>=1.15.1 in /opt/homebrew/Cellar/jupyterlab/4.4.9/libexec/lib/python3.13/site-packages (from plotly) (2.8.0)\n",
      "Requirement already satisfied: packaging in /opt/homebrew/Cellar/jupyterlab/4.4.9/libexec/lib/python3.13/site-packages (from plotly) (25.0)\n",
      "Note: you may need to restart the kernel to use updated packages.\n",
      "Requirement already satisfied: scipy in /opt/homebrew/Cellar/jupyterlab/4.4.9/libexec/lib/python3.13/site-packages (1.16.2)\n",
      "Requirement already satisfied: numpy<2.6,>=1.25.2 in /opt/homebrew/Cellar/jupyterlab/4.4.9/libexec/lib/python3.13/site-packages (from scipy) (2.3.3)\n",
      "Note: you may need to restart the kernel to use updated packages.\n",
      "Requirement already satisfied: pillow in /opt/homebrew/Cellar/jupyterlab/4.4.9/libexec/lib/python3.13/site-packages (11.3.0)\n",
      "Note: you may need to restart the kernel to use updated packages.\n"
     ]
    }
   ],
   "source": [
    "%pip install pandas\n",
    "%pip install matplotlib\n",
    "%pip install plotly\n",
    "%pip install scipy\n",
    "%pip install pillow"
   ]
  },
  {
   "cell_type": "code",
   "execution_count": 7,
   "id": "eb20b6e9",
   "metadata": {},
   "outputs": [],
   "source": [
    "# Import required libraries\n",
    "import pandas as pd\n",
    "import numpy as np\n",
    "import matplotlib.pyplot as plt\n",
    "import plotly.graph_objects as go\n",
    "from scipy.spatial.transform import Rotation\n",
    "from scipy.interpolate import interp1d\n",
    "from PIL import Image"
   ]
  },
  {
   "cell_type": "markdown",
   "id": "e0c16319",
   "metadata": {},
   "source": [
    "## 1. Import Required Libraries"
   ]
  },
  {
   "cell_type": "markdown",
   "id": "9e70ae42",
   "metadata": {},
   "source": [
    "# Upper Body Skeleton Reconstruction from Apple Vision Pro Data\n",
    "\n",
    "This notebook implements methods to reconstruct upper body skeletal joints from partial Apple Vision Pro tracking data (head and hands).\n",
    "\n",
    "**Objectives:**\n",
    "- Load and visualize existing device pose and hand tracking data\n",
    "- Implement anthropometric-based joint estimation\n",
    "- Develop inverse kinematics for elbow positioning\n",
    "- Visualize the complete upper body skeleton"
   ]
  },
  {
   "cell_type": "markdown",
   "id": "388cffd4",
   "metadata": {},
   "source": [
    "## 2. Load Vision Pro Data"
   ]
  },
  {
   "cell_type": "code",
   "execution_count": 8,
   "id": "e5a6f019",
   "metadata": {},
   "outputs": [
    {
     "name": "stdout",
     "output_type": "stream",
     "text": [
      "Device data shape: (1514, 9)\n",
      "Columns: ['t_mono', 't_wall', 'x', 'y', 'z', 'qx', 'qy', 'qz', 'qw']\n"
     ]
    },
    {
     "data": {
      "text/html": [
       "<div>\n",
       "<style scoped>\n",
       "    .dataframe tbody tr th:only-of-type {\n",
       "        vertical-align: middle;\n",
       "    }\n",
       "\n",
       "    .dataframe tbody tr th {\n",
       "        vertical-align: top;\n",
       "    }\n",
       "\n",
       "    .dataframe thead th {\n",
       "        text-align: right;\n",
       "    }\n",
       "</style>\n",
       "<table border=\"1\" class=\"dataframe\">\n",
       "  <thead>\n",
       "    <tr style=\"text-align: right;\">\n",
       "      <th></th>\n",
       "      <th>t_mono</th>\n",
       "      <th>t_wall</th>\n",
       "      <th>x</th>\n",
       "      <th>y</th>\n",
       "      <th>z</th>\n",
       "      <th>qx</th>\n",
       "      <th>qy</th>\n",
       "      <th>qz</th>\n",
       "      <th>qw</th>\n",
       "    </tr>\n",
       "  </thead>\n",
       "  <tbody>\n",
       "    <tr>\n",
       "      <th>0</th>\n",
       "      <td>0.132681</td>\n",
       "      <td>1.758062e+09</td>\n",
       "      <td>0.040748</td>\n",
       "      <td>0.249334</td>\n",
       "      <td>0.086169</td>\n",
       "      <td>0.045972</td>\n",
       "      <td>0.046942</td>\n",
       "      <td>0.017320</td>\n",
       "      <td>0.997689</td>\n",
       "    </tr>\n",
       "    <tr>\n",
       "      <th>1</th>\n",
       "      <td>0.151185</td>\n",
       "      <td>1.758062e+09</td>\n",
       "      <td>0.040800</td>\n",
       "      <td>0.249279</td>\n",
       "      <td>0.086060</td>\n",
       "      <td>0.045745</td>\n",
       "      <td>0.046831</td>\n",
       "      <td>0.017263</td>\n",
       "      <td>0.997705</td>\n",
       "    </tr>\n",
       "    <tr>\n",
       "      <th>2</th>\n",
       "      <td>0.168560</td>\n",
       "      <td>1.758062e+09</td>\n",
       "      <td>0.040847</td>\n",
       "      <td>0.249219</td>\n",
       "      <td>0.085955</td>\n",
       "      <td>0.045542</td>\n",
       "      <td>0.046737</td>\n",
       "      <td>0.017195</td>\n",
       "      <td>0.997720</td>\n",
       "    </tr>\n",
       "    <tr>\n",
       "      <th>3</th>\n",
       "      <td>0.185886</td>\n",
       "      <td>1.758062e+09</td>\n",
       "      <td>0.040896</td>\n",
       "      <td>0.249151</td>\n",
       "      <td>0.085849</td>\n",
       "      <td>0.045321</td>\n",
       "      <td>0.046643</td>\n",
       "      <td>0.017106</td>\n",
       "      <td>0.997736</td>\n",
       "    </tr>\n",
       "    <tr>\n",
       "      <th>4</th>\n",
       "      <td>0.203302</td>\n",
       "      <td>1.758062e+09</td>\n",
       "      <td>0.040936</td>\n",
       "      <td>0.249082</td>\n",
       "      <td>0.085736</td>\n",
       "      <td>0.045068</td>\n",
       "      <td>0.046537</td>\n",
       "      <td>0.017046</td>\n",
       "      <td>0.997754</td>\n",
       "    </tr>\n",
       "  </tbody>\n",
       "</table>\n",
       "</div>"
      ],
      "text/plain": [
       "     t_mono        t_wall         x         y         z        qx        qy  \\\n",
       "0  0.132681  1.758062e+09  0.040748  0.249334  0.086169  0.045972  0.046942   \n",
       "1  0.151185  1.758062e+09  0.040800  0.249279  0.086060  0.045745  0.046831   \n",
       "2  0.168560  1.758062e+09  0.040847  0.249219  0.085955  0.045542  0.046737   \n",
       "3  0.185886  1.758062e+09  0.040896  0.249151  0.085849  0.045321  0.046643   \n",
       "4  0.203302  1.758062e+09  0.040936  0.249082  0.085736  0.045068  0.046537   \n",
       "\n",
       "         qz        qw  \n",
       "0  0.017320  0.997689  \n",
       "1  0.017263  0.997705  \n",
       "2  0.017195  0.997720  \n",
       "3  0.017106  0.997736  \n",
       "4  0.017046  0.997754  "
      ]
     },
     "execution_count": 8,
     "metadata": {},
     "output_type": "execute_result"
    }
   ],
   "source": [
    "# Load device pose data (head tracking)\n",
    "device_data = pd.read_csv('Prototype/Data/device_pose_data .csv')\n",
    "print(f\"Device data shape: {device_data.shape}\")\n",
    "print(f\"Columns: {device_data.columns.tolist()}\")\n",
    "device_data.head()"
   ]
  },
  {
   "cell_type": "code",
   "execution_count": 9,
   "id": "7ff6812e",
   "metadata": {},
   "outputs": [
    {
     "name": "stdout",
     "output_type": "stream",
     "text": [
      "Hand data shape: (4816, 186)\n",
      "Number of frames: 4816\n",
      "\n",
      "Sample columns (first 10): ['t_mono', 't_wall', 'chirality', 'thumbKnuckle_px', 'thumbKnuckle_py', 'thumbKnuckle_pz', 'thumbKnuckle_qx', 'thumbKnuckle_qy', 'thumbKnuckle_qz', 'thumbKnuckle_qw']\n"
     ]
    },
    {
     "data": {
      "text/html": [
       "<div>\n",
       "<style scoped>\n",
       "    .dataframe tbody tr th:only-of-type {\n",
       "        vertical-align: middle;\n",
       "    }\n",
       "\n",
       "    .dataframe tbody tr th {\n",
       "        vertical-align: top;\n",
       "    }\n",
       "\n",
       "    .dataframe thead th {\n",
       "        text-align: right;\n",
       "    }\n",
       "</style>\n",
       "<table border=\"1\" class=\"dataframe\">\n",
       "  <thead>\n",
       "    <tr style=\"text-align: right;\">\n",
       "      <th></th>\n",
       "      <th>t_mono</th>\n",
       "      <th>t_wall</th>\n",
       "      <th>chirality</th>\n",
       "      <th>thumbKnuckle_px</th>\n",
       "      <th>thumbKnuckle_py</th>\n",
       "      <th>thumbKnuckle_pz</th>\n",
       "      <th>thumbKnuckle_qx</th>\n",
       "      <th>thumbKnuckle_qy</th>\n",
       "      <th>thumbKnuckle_qz</th>\n",
       "      <th>thumbKnuckle_qw</th>\n",
       "      <th>...</th>\n",
       "      <th>forearmWrist_qz</th>\n",
       "      <th>forearmWrist_qw</th>\n",
       "      <th>forearmArm_px</th>\n",
       "      <th>forearmArm_py</th>\n",
       "      <th>forearmArm_pz</th>\n",
       "      <th>forearmArm_qx</th>\n",
       "      <th>forearmArm_qy</th>\n",
       "      <th>forearmArm_qz</th>\n",
       "      <th>forearmArm_qw</th>\n",
       "      <th>Unnamed: 185</th>\n",
       "    </tr>\n",
       "  </thead>\n",
       "  <tbody>\n",
       "    <tr>\n",
       "      <th>0</th>\n",
       "      <td>0.208637</td>\n",
       "      <td>1.758062e+09</td>\n",
       "      <td>right</td>\n",
       "      <td>0.243169</td>\n",
       "      <td>0.028552</td>\n",
       "      <td>-0.061662</td>\n",
       "      <td>0.762413</td>\n",
       "      <td>-0.262126</td>\n",
       "      <td>0.070850</td>\n",
       "      <td>0.587365</td>\n",
       "      <td>...</td>\n",
       "      <td>0.068854</td>\n",
       "      <td>0.264537</td>\n",
       "      <td>0.365860</td>\n",
       "      <td>-0.195790</td>\n",
       "      <td>0.026805</td>\n",
       "      <td>0.480577</td>\n",
       "      <td>0.833262</td>\n",
       "      <td>0.068854</td>\n",
       "      <td>0.264537</td>\n",
       "      <td>NaN</td>\n",
       "    </tr>\n",
       "    <tr>\n",
       "      <th>1</th>\n",
       "      <td>0.208836</td>\n",
       "      <td>1.758062e+09</td>\n",
       "      <td>left</td>\n",
       "      <td>-0.071502</td>\n",
       "      <td>-0.255476</td>\n",
       "      <td>-0.072477</td>\n",
       "      <td>0.871857</td>\n",
       "      <td>-0.394472</td>\n",
       "      <td>0.053322</td>\n",
       "      <td>-0.285332</td>\n",
       "      <td>...</td>\n",
       "      <td>0.848462</td>\n",
       "      <td>0.000453</td>\n",
       "      <td>-0.208979</td>\n",
       "      <td>-0.205070</td>\n",
       "      <td>0.135211</td>\n",
       "      <td>0.511417</td>\n",
       "      <td>0.136253</td>\n",
       "      <td>0.848462</td>\n",
       "      <td>0.000453</td>\n",
       "      <td>NaN</td>\n",
       "    </tr>\n",
       "    <tr>\n",
       "      <th>2</th>\n",
       "      <td>0.220876</td>\n",
       "      <td>1.758062e+09</td>\n",
       "      <td>right</td>\n",
       "      <td>0.215677</td>\n",
       "      <td>0.904898</td>\n",
       "      <td>-0.227673</td>\n",
       "      <td>0.757615</td>\n",
       "      <td>-0.290184</td>\n",
       "      <td>0.109381</td>\n",
       "      <td>0.574324</td>\n",
       "      <td>...</td>\n",
       "      <td>0.092030</td>\n",
       "      <td>0.305965</td>\n",
       "      <td>0.329366</td>\n",
       "      <td>0.680974</td>\n",
       "      <td>-0.127017</td>\n",
       "      <td>0.475552</td>\n",
       "      <td>0.819613</td>\n",
       "      <td>0.092030</td>\n",
       "      <td>0.305965</td>\n",
       "      <td>NaN</td>\n",
       "    </tr>\n",
       "    <tr>\n",
       "      <th>3</th>\n",
       "      <td>0.220974</td>\n",
       "      <td>1.758062e+09</td>\n",
       "      <td>left</td>\n",
       "      <td>-0.096416</td>\n",
       "      <td>0.620823</td>\n",
       "      <td>-0.268663</td>\n",
       "      <td>0.868103</td>\n",
       "      <td>-0.380161</td>\n",
       "      <td>0.095424</td>\n",
       "      <td>-0.304581</td>\n",
       "      <td>...</td>\n",
       "      <td>0.872372</td>\n",
       "      <td>0.006818</td>\n",
       "      <td>-0.253408</td>\n",
       "      <td>0.671033</td>\n",
       "      <td>-0.075247</td>\n",
       "      <td>0.469590</td>\n",
       "      <td>0.135666</td>\n",
       "      <td>0.872372</td>\n",
       "      <td>0.006818</td>\n",
       "      <td>NaN</td>\n",
       "    </tr>\n",
       "    <tr>\n",
       "      <th>4</th>\n",
       "      <td>0.230773</td>\n",
       "      <td>1.758062e+09</td>\n",
       "      <td>right</td>\n",
       "      <td>0.215550</td>\n",
       "      <td>0.904954</td>\n",
       "      <td>-0.227783</td>\n",
       "      <td>0.757008</td>\n",
       "      <td>-0.290135</td>\n",
       "      <td>0.110900</td>\n",
       "      <td>0.574858</td>\n",
       "      <td>...</td>\n",
       "      <td>0.091746</td>\n",
       "      <td>0.307321</td>\n",
       "      <td>0.329332</td>\n",
       "      <td>0.681425</td>\n",
       "      <td>-0.126355</td>\n",
       "      <td>0.474536</td>\n",
       "      <td>0.819727</td>\n",
       "      <td>0.091746</td>\n",
       "      <td>0.307321</td>\n",
       "      <td>NaN</td>\n",
       "    </tr>\n",
       "  </tbody>\n",
       "</table>\n",
       "<p>5 rows × 186 columns</p>\n",
       "</div>"
      ],
      "text/plain": [
       "     t_mono        t_wall chirality  thumbKnuckle_px  thumbKnuckle_py  \\\n",
       "0  0.208637  1.758062e+09     right         0.243169         0.028552   \n",
       "1  0.208836  1.758062e+09      left        -0.071502        -0.255476   \n",
       "2  0.220876  1.758062e+09     right         0.215677         0.904898   \n",
       "3  0.220974  1.758062e+09      left        -0.096416         0.620823   \n",
       "4  0.230773  1.758062e+09     right         0.215550         0.904954   \n",
       "\n",
       "   thumbKnuckle_pz  thumbKnuckle_qx  thumbKnuckle_qy  thumbKnuckle_qz  \\\n",
       "0        -0.061662         0.762413        -0.262126         0.070850   \n",
       "1        -0.072477         0.871857        -0.394472         0.053322   \n",
       "2        -0.227673         0.757615        -0.290184         0.109381   \n",
       "3        -0.268663         0.868103        -0.380161         0.095424   \n",
       "4        -0.227783         0.757008        -0.290135         0.110900   \n",
       "\n",
       "   thumbKnuckle_qw  ...  forearmWrist_qz  forearmWrist_qw  forearmArm_px  \\\n",
       "0         0.587365  ...         0.068854         0.264537       0.365860   \n",
       "1        -0.285332  ...         0.848462         0.000453      -0.208979   \n",
       "2         0.574324  ...         0.092030         0.305965       0.329366   \n",
       "3        -0.304581  ...         0.872372         0.006818      -0.253408   \n",
       "4         0.574858  ...         0.091746         0.307321       0.329332   \n",
       "\n",
       "   forearmArm_py  forearmArm_pz  forearmArm_qx  forearmArm_qy  forearmArm_qz  \\\n",
       "0      -0.195790       0.026805       0.480577       0.833262       0.068854   \n",
       "1      -0.205070       0.135211       0.511417       0.136253       0.848462   \n",
       "2       0.680974      -0.127017       0.475552       0.819613       0.092030   \n",
       "3       0.671033      -0.075247       0.469590       0.135666       0.872372   \n",
       "4       0.681425      -0.126355       0.474536       0.819727       0.091746   \n",
       "\n",
       "   forearmArm_qw  Unnamed: 185  \n",
       "0       0.264537           NaN  \n",
       "1       0.000453           NaN  \n",
       "2       0.305965           NaN  \n",
       "3       0.006818           NaN  \n",
       "4       0.307321           NaN  \n",
       "\n",
       "[5 rows x 186 columns]"
      ]
     },
     "execution_count": 9,
     "metadata": {},
     "output_type": "execute_result"
    }
   ],
   "source": [
    "# Load hand tracking data\n",
    "hand_data = pd.read_csv('Prototype/Data/hand_data_pivoted.csv')\n",
    "print(f\"Hand data shape: {hand_data.shape}\")\n",
    "print(f\"Number of frames: {len(hand_data)}\")\n",
    "print(f\"\\nSample columns (first 10): {hand_data.columns.tolist()[:10]}\")\n",
    "hand_data.head()"
   ]
  },
  {
   "cell_type": "markdown",
   "id": "164c8844",
   "metadata": {},
   "source": [
    "## 3. Extract Key Joint Data\n",
    "\n",
    "Extract the important joints we have: head, wrists, and forearm positions."
   ]
  },
  {
   "cell_type": "code",
   "execution_count": 10,
   "id": "dcfde6a6",
   "metadata": {},
   "outputs": [
    {
     "name": "stdout",
     "output_type": "stream",
     "text": [
      "Right wrist positions: (2415, 3)\n",
      "Left wrist positions: (2401, 3)\n",
      "Right forearm positions: (2415, 3)\n",
      "Left forearm positions: (2401, 3)\n"
     ]
    }
   ],
   "source": [
    "def extract_joint_positions(hand_df, joint_name, chirality='right'):\n",
    "    \"\"\"Extract position and orientation for a specific joint.\"\"\"\n",
    "    filtered = hand_df[hand_df['chirality'] == chirality]\n",
    "    \n",
    "    position = filtered[[f'{joint_name}_px', f'{joint_name}_py', f'{joint_name}_pz']].values\n",
    "    orientation = filtered[[f'{joint_name}_qx', f'{joint_name}_qy', f'{joint_name}_qz', f'{joint_name}_qw']].values\n",
    "    \n",
    "    return position, orientation\n",
    "\n",
    "# Extract wrist and forearm positions for both hands\n",
    "right_wrist_pos, right_wrist_ori = extract_joint_positions(hand_data, 'forearmWrist', 'right')\n",
    "left_wrist_pos, left_wrist_ori = extract_joint_positions(hand_data, 'forearmWrist', 'left')\n",
    "\n",
    "right_forearm_pos, right_forearm_ori = extract_joint_positions(hand_data, 'forearmArm', 'right')\n",
    "left_forearm_pos, left_forearm_ori = extract_joint_positions(hand_data, 'forearmArm', 'left')\n",
    "\n",
    "print(f\"Right wrist positions: {right_wrist_pos.shape}\")\n",
    "print(f\"Left wrist positions: {left_wrist_pos.shape}\")\n",
    "print(f\"Right forearm positions: {right_forearm_pos.shape}\")\n",
    "print(f\"Left forearm positions: {left_forearm_pos.shape}\")"
   ]
  },
  {
   "cell_type": "code",
   "execution_count": 14,
   "id": "96b8882b",
   "metadata": {},
   "outputs": [
    {
     "name": "stdout",
     "output_type": "stream",
     "text": [
      "Raw head positions: (1514, 3)\n",
      "Raw head orientations: (1514, 4)\n",
      "\n",
      "Target frame count (from hand data): 2415\n",
      "Head data frames: 1514\n",
      "Frame count ratio: 1.60x\n",
      "\n",
      "Head timestamp range: [0.133, 27.147]\n",
      "Hand timestamp range: [0.209, 27.153]\n",
      "\n",
      "Valid hand frames within head range: 2414/2415\n",
      "\n",
      "Interpolating head positions to match hand data frame rate...\n",
      "Interpolating head orientations using SLERP...\n",
      "\n",
      "Interpolated head positions: (2415, 3)\n",
      "Interpolated head orientations: (2415, 4)\n",
      "Sample head position: [0.02962596 0.49307313 0.03387046]\n",
      "Sample head orientation (quaternion): [0.04472287 0.03166356 0.01770498 0.99834053]\n",
      "\n",
      "⚠️  Warning: 1 hand frames are outside head tracking range\n",
      "These frames will use extrapolated head data (may be less accurate)\n"
     ]
    }
   ],
   "source": [
    "# Extract head positions and orientations with proper bounds handling\n",
    "head_positions_raw = device_data[['x', 'y', 'z']].values\n",
    "head_orientations_raw = device_data[['qx', 'qy', 'qz', 'qw']].values\n",
    "head_timestamps = device_data['t_mono'].values\n",
    "\n",
    "print(f\"Raw head positions: {head_positions_raw.shape}\")\n",
    "print(f\"Raw head orientations: {head_orientations_raw.shape}\")\n",
    "\n",
    "# Get hand timestamps for interpolation target\n",
    "hand_timestamps = hand_data[hand_data['chirality'] == 'right']['t_mono'].values\n",
    "target_frame_count = len(hand_timestamps)\n",
    "\n",
    "print(f\"\\nTarget frame count (from hand data): {target_frame_count}\")\n",
    "print(f\"Head data frames: {len(head_positions_raw)}\")\n",
    "print(f\"Frame count ratio: {target_frame_count / len(head_positions_raw):.2f}x\")\n",
    "\n",
    "# Find the overlapping time range\n",
    "head_min_time = head_timestamps.min()\n",
    "head_max_time = head_timestamps.max()\n",
    "hand_min_time = hand_timestamps.min()\n",
    "hand_max_time = hand_timestamps.max()\n",
    "\n",
    "print(f\"\\nHead timestamp range: [{head_min_time:.3f}, {head_max_time:.3f}]\")\n",
    "print(f\"Hand timestamp range: [{hand_min_time:.3f}, {hand_max_time:.3f}]\")\n",
    "\n",
    "# Clip hand timestamps to be within head timestamp range\n",
    "hand_timestamps_clipped = np.clip(hand_timestamps, head_min_time, head_max_time)\n",
    "\n",
    "# Find which hand frames are within the valid range\n",
    "valid_mask = (hand_timestamps >= head_min_time) & (hand_timestamps <= head_max_time)\n",
    "num_valid = valid_mask.sum()\n",
    "print(f\"\\nValid hand frames within head range: {num_valid}/{len(hand_timestamps)}\")\n",
    "\n",
    "# Interpolate head positions\n",
    "print(\"\\nInterpolating head positions to match hand data frame rate...\")\n",
    "head_positions = np.zeros((target_frame_count, 3))\n",
    "for i in range(3):  # x, y, z\n",
    "    interp_func = interp1d(head_timestamps, head_positions_raw[:, i], \n",
    "                          kind='cubic', \n",
    "                          bounds_error=False, \n",
    "                          fill_value='extrapolate')\n",
    "    head_positions[:, i] = interp_func(hand_timestamps_clipped)\n",
    "\n",
    "# Interpolate head orientations using SLERP\n",
    "print(\"Interpolating head orientations using SLERP...\")\n",
    "rotations = Rotation.from_quat(head_orientations_raw)\n",
    "\n",
    "# Create Slerp interpolator\n",
    "from scipy.spatial.transform import Slerp\n",
    "slerp_interp = Slerp(head_timestamps, rotations)\n",
    "\n",
    "# Interpolate only within valid range\n",
    "interpolated_rotations = slerp_interp(hand_timestamps_clipped)\n",
    "head_orientations = interpolated_rotations.as_quat()\n",
    "\n",
    "print(f\"\\nInterpolated head positions: {head_positions.shape}\")\n",
    "print(f\"Interpolated head orientations: {head_orientations.shape}\")\n",
    "print(f\"Sample head position: {head_positions[0]}\")\n",
    "print(f\"Sample head orientation (quaternion): {head_orientations[0]}\")\n",
    "\n",
    "# Also filter the hand data to only use valid frames if needed\n",
    "if not valid_mask.all():\n",
    "    print(f\"\\n⚠️  Warning: {(~valid_mask).sum()} hand frames are outside head tracking range\")\n",
    "    print(\"These frames will use extrapolated head data (may be less accurate)\")"
   ]
  },
  {
   "cell_type": "markdown",
   "id": "ed30fa28",
   "metadata": {},
   "source": [
    "## 4. Visualize Existing Data\n",
    "\n",
    "Visualize the raw data we have: head position and hand joints."
   ]
  },
  {
   "cell_type": "code",
   "execution_count": 15,
   "id": "235c9a49",
   "metadata": {},
   "outputs": [
    {
     "data": {
      "application/vnd.plotly.v1+json": {
       "config": {
        "plotlyServerURL": "https://plot.ly"
       },
       "data": [
        {
         "marker": {
          "color": "red",
          "size": 10
         },
         "mode": "markers",
         "name": "Head",
         "type": "scatter3d",
         "x": [
          0.027157889739654384
         ],
         "y": [
          1.0672794247298345
         ],
         "z": [
          -0.13187575118347816
         ]
        },
        {
         "line": {
          "color": "blue",
          "width": 3
         },
         "marker": {
          "color": "blue",
          "size": 7
         },
         "mode": "markers+lines",
         "name": "Right Arm",
         "type": "scatter3d",
         "x": [
          0.21824683,
          0.29613888
         ],
         "y": [
          0.8634487,
          0.6807863
         ],
         "z": [
          -0.2548641,
          -0.09357934
         ]
        },
        {
         "line": {
          "color": "green",
          "width": 3
         },
         "marker": {
          "color": "green",
          "size": 7
         },
         "mode": "markers+lines",
         "name": "Left Arm",
         "type": "scatter3d",
         "x": [
          -0.13726911,
          -0.29408854
         ],
         "y": [
          0.7446337,
          0.6269854
         ],
         "z": [
          -0.28581917,
          -0.14329696
         ]
        }
       ],
       "layout": {
        "height": 600,
        "scene": {
         "aspectmode": "data",
         "xaxis": {
          "title": {
           "text": "X"
          }
         },
         "yaxis": {
          "title": {
           "text": "Y"
          }
         },
         "zaxis": {
          "title": {
           "text": "Z"
          }
         }
        },
        "template": {
         "data": {
          "bar": [
           {
            "error_x": {
             "color": "#2a3f5f"
            },
            "error_y": {
             "color": "#2a3f5f"
            },
            "marker": {
             "line": {
              "color": "#E5ECF6",
              "width": 0.5
             },
             "pattern": {
              "fillmode": "overlay",
              "size": 10,
              "solidity": 0.2
             }
            },
            "type": "bar"
           }
          ],
          "barpolar": [
           {
            "marker": {
             "line": {
              "color": "#E5ECF6",
              "width": 0.5
             },
             "pattern": {
              "fillmode": "overlay",
              "size": 10,
              "solidity": 0.2
             }
            },
            "type": "barpolar"
           }
          ],
          "carpet": [
           {
            "aaxis": {
             "endlinecolor": "#2a3f5f",
             "gridcolor": "white",
             "linecolor": "white",
             "minorgridcolor": "white",
             "startlinecolor": "#2a3f5f"
            },
            "baxis": {
             "endlinecolor": "#2a3f5f",
             "gridcolor": "white",
             "linecolor": "white",
             "minorgridcolor": "white",
             "startlinecolor": "#2a3f5f"
            },
            "type": "carpet"
           }
          ],
          "choropleth": [
           {
            "colorbar": {
             "outlinewidth": 0,
             "ticks": ""
            },
            "type": "choropleth"
           }
          ],
          "contour": [
           {
            "colorbar": {
             "outlinewidth": 0,
             "ticks": ""
            },
            "colorscale": [
             [
              0,
              "#0d0887"
             ],
             [
              0.1111111111111111,
              "#46039f"
             ],
             [
              0.2222222222222222,
              "#7201a8"
             ],
             [
              0.3333333333333333,
              "#9c179e"
             ],
             [
              0.4444444444444444,
              "#bd3786"
             ],
             [
              0.5555555555555556,
              "#d8576b"
             ],
             [
              0.6666666666666666,
              "#ed7953"
             ],
             [
              0.7777777777777778,
              "#fb9f3a"
             ],
             [
              0.8888888888888888,
              "#fdca26"
             ],
             [
              1,
              "#f0f921"
             ]
            ],
            "type": "contour"
           }
          ],
          "contourcarpet": [
           {
            "colorbar": {
             "outlinewidth": 0,
             "ticks": ""
            },
            "type": "contourcarpet"
           }
          ],
          "heatmap": [
           {
            "colorbar": {
             "outlinewidth": 0,
             "ticks": ""
            },
            "colorscale": [
             [
              0,
              "#0d0887"
             ],
             [
              0.1111111111111111,
              "#46039f"
             ],
             [
              0.2222222222222222,
              "#7201a8"
             ],
             [
              0.3333333333333333,
              "#9c179e"
             ],
             [
              0.4444444444444444,
              "#bd3786"
             ],
             [
              0.5555555555555556,
              "#d8576b"
             ],
             [
              0.6666666666666666,
              "#ed7953"
             ],
             [
              0.7777777777777778,
              "#fb9f3a"
             ],
             [
              0.8888888888888888,
              "#fdca26"
             ],
             [
              1,
              "#f0f921"
             ]
            ],
            "type": "heatmap"
           }
          ],
          "histogram": [
           {
            "marker": {
             "pattern": {
              "fillmode": "overlay",
              "size": 10,
              "solidity": 0.2
             }
            },
            "type": "histogram"
           }
          ],
          "histogram2d": [
           {
            "colorbar": {
             "outlinewidth": 0,
             "ticks": ""
            },
            "colorscale": [
             [
              0,
              "#0d0887"
             ],
             [
              0.1111111111111111,
              "#46039f"
             ],
             [
              0.2222222222222222,
              "#7201a8"
             ],
             [
              0.3333333333333333,
              "#9c179e"
             ],
             [
              0.4444444444444444,
              "#bd3786"
             ],
             [
              0.5555555555555556,
              "#d8576b"
             ],
             [
              0.6666666666666666,
              "#ed7953"
             ],
             [
              0.7777777777777778,
              "#fb9f3a"
             ],
             [
              0.8888888888888888,
              "#fdca26"
             ],
             [
              1,
              "#f0f921"
             ]
            ],
            "type": "histogram2d"
           }
          ],
          "histogram2dcontour": [
           {
            "colorbar": {
             "outlinewidth": 0,
             "ticks": ""
            },
            "colorscale": [
             [
              0,
              "#0d0887"
             ],
             [
              0.1111111111111111,
              "#46039f"
             ],
             [
              0.2222222222222222,
              "#7201a8"
             ],
             [
              0.3333333333333333,
              "#9c179e"
             ],
             [
              0.4444444444444444,
              "#bd3786"
             ],
             [
              0.5555555555555556,
              "#d8576b"
             ],
             [
              0.6666666666666666,
              "#ed7953"
             ],
             [
              0.7777777777777778,
              "#fb9f3a"
             ],
             [
              0.8888888888888888,
              "#fdca26"
             ],
             [
              1,
              "#f0f921"
             ]
            ],
            "type": "histogram2dcontour"
           }
          ],
          "mesh3d": [
           {
            "colorbar": {
             "outlinewidth": 0,
             "ticks": ""
            },
            "type": "mesh3d"
           }
          ],
          "parcoords": [
           {
            "line": {
             "colorbar": {
              "outlinewidth": 0,
              "ticks": ""
             }
            },
            "type": "parcoords"
           }
          ],
          "pie": [
           {
            "automargin": true,
            "type": "pie"
           }
          ],
          "scatter": [
           {
            "fillpattern": {
             "fillmode": "overlay",
             "size": 10,
             "solidity": 0.2
            },
            "type": "scatter"
           }
          ],
          "scatter3d": [
           {
            "line": {
             "colorbar": {
              "outlinewidth": 0,
              "ticks": ""
             }
            },
            "marker": {
             "colorbar": {
              "outlinewidth": 0,
              "ticks": ""
             }
            },
            "type": "scatter3d"
           }
          ],
          "scattercarpet": [
           {
            "marker": {
             "colorbar": {
              "outlinewidth": 0,
              "ticks": ""
             }
            },
            "type": "scattercarpet"
           }
          ],
          "scattergeo": [
           {
            "marker": {
             "colorbar": {
              "outlinewidth": 0,
              "ticks": ""
             }
            },
            "type": "scattergeo"
           }
          ],
          "scattergl": [
           {
            "marker": {
             "colorbar": {
              "outlinewidth": 0,
              "ticks": ""
             }
            },
            "type": "scattergl"
           }
          ],
          "scattermap": [
           {
            "marker": {
             "colorbar": {
              "outlinewidth": 0,
              "ticks": ""
             }
            },
            "type": "scattermap"
           }
          ],
          "scattermapbox": [
           {
            "marker": {
             "colorbar": {
              "outlinewidth": 0,
              "ticks": ""
             }
            },
            "type": "scattermapbox"
           }
          ],
          "scatterpolar": [
           {
            "marker": {
             "colorbar": {
              "outlinewidth": 0,
              "ticks": ""
             }
            },
            "type": "scatterpolar"
           }
          ],
          "scatterpolargl": [
           {
            "marker": {
             "colorbar": {
              "outlinewidth": 0,
              "ticks": ""
             }
            },
            "type": "scatterpolargl"
           }
          ],
          "scatterternary": [
           {
            "marker": {
             "colorbar": {
              "outlinewidth": 0,
              "ticks": ""
             }
            },
            "type": "scatterternary"
           }
          ],
          "surface": [
           {
            "colorbar": {
             "outlinewidth": 0,
             "ticks": ""
            },
            "colorscale": [
             [
              0,
              "#0d0887"
             ],
             [
              0.1111111111111111,
              "#46039f"
             ],
             [
              0.2222222222222222,
              "#7201a8"
             ],
             [
              0.3333333333333333,
              "#9c179e"
             ],
             [
              0.4444444444444444,
              "#bd3786"
             ],
             [
              0.5555555555555556,
              "#d8576b"
             ],
             [
              0.6666666666666666,
              "#ed7953"
             ],
             [
              0.7777777777777778,
              "#fb9f3a"
             ],
             [
              0.8888888888888888,
              "#fdca26"
             ],
             [
              1,
              "#f0f921"
             ]
            ],
            "type": "surface"
           }
          ],
          "table": [
           {
            "cells": {
             "fill": {
              "color": "#EBF0F8"
             },
             "line": {
              "color": "white"
             }
            },
            "header": {
             "fill": {
              "color": "#C8D4E3"
             },
             "line": {
              "color": "white"
             }
            },
            "type": "table"
           }
          ]
         },
         "layout": {
          "annotationdefaults": {
           "arrowcolor": "#2a3f5f",
           "arrowhead": 0,
           "arrowwidth": 1
          },
          "autotypenumbers": "strict",
          "coloraxis": {
           "colorbar": {
            "outlinewidth": 0,
            "ticks": ""
           }
          },
          "colorscale": {
           "diverging": [
            [
             0,
             "#8e0152"
            ],
            [
             0.1,
             "#c51b7d"
            ],
            [
             0.2,
             "#de77ae"
            ],
            [
             0.3,
             "#f1b6da"
            ],
            [
             0.4,
             "#fde0ef"
            ],
            [
             0.5,
             "#f7f7f7"
            ],
            [
             0.6,
             "#e6f5d0"
            ],
            [
             0.7,
             "#b8e186"
            ],
            [
             0.8,
             "#7fbc41"
            ],
            [
             0.9,
             "#4d9221"
            ],
            [
             1,
             "#276419"
            ]
           ],
           "sequential": [
            [
             0,
             "#0d0887"
            ],
            [
             0.1111111111111111,
             "#46039f"
            ],
            [
             0.2222222222222222,
             "#7201a8"
            ],
            [
             0.3333333333333333,
             "#9c179e"
            ],
            [
             0.4444444444444444,
             "#bd3786"
            ],
            [
             0.5555555555555556,
             "#d8576b"
            ],
            [
             0.6666666666666666,
             "#ed7953"
            ],
            [
             0.7777777777777778,
             "#fb9f3a"
            ],
            [
             0.8888888888888888,
             "#fdca26"
            ],
            [
             1,
             "#f0f921"
            ]
           ],
           "sequentialminus": [
            [
             0,
             "#0d0887"
            ],
            [
             0.1111111111111111,
             "#46039f"
            ],
            [
             0.2222222222222222,
             "#7201a8"
            ],
            [
             0.3333333333333333,
             "#9c179e"
            ],
            [
             0.4444444444444444,
             "#bd3786"
            ],
            [
             0.5555555555555556,
             "#d8576b"
            ],
            [
             0.6666666666666666,
             "#ed7953"
            ],
            [
             0.7777777777777778,
             "#fb9f3a"
            ],
            [
             0.8888888888888888,
             "#fdca26"
            ],
            [
             1,
             "#f0f921"
            ]
           ]
          },
          "colorway": [
           "#636efa",
           "#EF553B",
           "#00cc96",
           "#ab63fa",
           "#FFA15A",
           "#19d3f3",
           "#FF6692",
           "#B6E880",
           "#FF97FF",
           "#FECB52"
          ],
          "font": {
           "color": "#2a3f5f"
          },
          "geo": {
           "bgcolor": "white",
           "lakecolor": "white",
           "landcolor": "#E5ECF6",
           "showlakes": true,
           "showland": true,
           "subunitcolor": "white"
          },
          "hoverlabel": {
           "align": "left"
          },
          "hovermode": "closest",
          "mapbox": {
           "style": "light"
          },
          "paper_bgcolor": "white",
          "plot_bgcolor": "#E5ECF6",
          "polar": {
           "angularaxis": {
            "gridcolor": "white",
            "linecolor": "white",
            "ticks": ""
           },
           "bgcolor": "#E5ECF6",
           "radialaxis": {
            "gridcolor": "white",
            "linecolor": "white",
            "ticks": ""
           }
          },
          "scene": {
           "xaxis": {
            "backgroundcolor": "#E5ECF6",
            "gridcolor": "white",
            "gridwidth": 2,
            "linecolor": "white",
            "showbackground": true,
            "ticks": "",
            "zerolinecolor": "white"
           },
           "yaxis": {
            "backgroundcolor": "#E5ECF6",
            "gridcolor": "white",
            "gridwidth": 2,
            "linecolor": "white",
            "showbackground": true,
            "ticks": "",
            "zerolinecolor": "white"
           },
           "zaxis": {
            "backgroundcolor": "#E5ECF6",
            "gridcolor": "white",
            "gridwidth": 2,
            "linecolor": "white",
            "showbackground": true,
            "ticks": "",
            "zerolinecolor": "white"
           }
          },
          "shapedefaults": {
           "line": {
            "color": "#2a3f5f"
           }
          },
          "ternary": {
           "aaxis": {
            "gridcolor": "white",
            "linecolor": "white",
            "ticks": ""
           },
           "baxis": {
            "gridcolor": "white",
            "linecolor": "white",
            "ticks": ""
           },
           "bgcolor": "#E5ECF6",
           "caxis": {
            "gridcolor": "white",
            "linecolor": "white",
            "ticks": ""
           }
          },
          "title": {
           "x": 0.05
          },
          "xaxis": {
           "automargin": true,
           "gridcolor": "white",
           "linecolor": "white",
           "ticks": "",
           "title": {
            "standoff": 15
           },
           "zerolinecolor": "white",
           "zerolinewidth": 2
          },
          "yaxis": {
           "automargin": true,
           "gridcolor": "white",
           "linecolor": "white",
           "ticks": "",
           "title": {
            "standoff": 15
           },
           "zerolinecolor": "white",
           "zerolinewidth": 2
          }
         }
        },
        "title": {
         "text": "Existing Vision Pro Data (Frame 100)"
        },
        "width": 800
       }
      },
      "image/png": "[encoded data removed]"
     },
     "metadata": {},
     "output_type": "display_data"
    }
   ],
   "source": [
    "# Visualize a single frame of existing data\n",
    "frame_idx = 100  # Choose a frame to visualize\n",
    "\n",
    "fig = go.Figure()\n",
    "\n",
    "# Add head position\n",
    "fig.add_trace(go.Scatter3d(\n",
    "    x=[head_positions[frame_idx, 0]],\n",
    "    y=[head_positions[frame_idx, 1]],\n",
    "    z=[head_positions[frame_idx, 2]],\n",
    "    mode='markers',\n",
    "    marker=dict(size=10, color='red'),\n",
    "    name='Head'\n",
    "))\n",
    "\n",
    "# Add right hand joints\n",
    "fig.add_trace(go.Scatter3d(\n",
    "    x=[right_wrist_pos[frame_idx, 0], right_forearm_pos[frame_idx, 0]],\n",
    "    y=[right_wrist_pos[frame_idx, 1], right_forearm_pos[frame_idx, 1]],\n",
    "    z=[right_wrist_pos[frame_idx, 2], right_forearm_pos[frame_idx, 2]],\n",
    "    mode='markers+lines',\n",
    "    marker=dict(size=7, color='blue'),\n",
    "    line=dict(color='blue', width=3),\n",
    "    name='Right Arm'\n",
    "))\n",
    "\n",
    "# Add left hand joints\n",
    "fig.add_trace(go.Scatter3d(\n",
    "    x=[left_wrist_pos[frame_idx, 0], left_forearm_pos[frame_idx, 0]],\n",
    "    y=[left_wrist_pos[frame_idx, 1], left_forearm_pos[frame_idx, 1]],\n",
    "    z=[left_wrist_pos[frame_idx, 2], left_forearm_pos[frame_idx, 2]],\n",
    "    mode='markers+lines',\n",
    "    marker=dict(size=7, color='green'),\n",
    "    line=dict(color='green', width=3),\n",
    "    name='Left Arm'\n",
    "))\n",
    "\n",
    "fig.update_layout(\n",
    "    title=f'Existing Vision Pro Data (Frame {frame_idx})',\n",
    "    scene=dict(\n",
    "        xaxis_title='X',\n",
    "        yaxis_title='Y',\n",
    "        zaxis_title='Z',\n",
    "        aspectmode='data'\n",
    "    ),\n",
    "    width=800,\n",
    "    height=600\n",
    ")\n",
    "\n",
    "fig.show()"
   ]
  },
  {
   "cell_type": "markdown",
   "id": "f520312c",
   "metadata": {},
   "source": [
    "## 5. Define Anthropometric Parameters\n",
    "\n",
    "Set up body proportions based on user height."
   ]
  },
  {
   "cell_type": "code",
   "execution_count": 16,
   "id": "7ce6bd83",
   "metadata": {},
   "outputs": [
    {
     "name": "stdout",
     "output_type": "stream",
     "text": [
      "AnthropometricModel(height=1.75m)\n",
      "  Neck: 0.088m\n",
      "  Shoulder width: 0.438m\n",
      "  Upper arm: 0.315m\n",
      "  Forearm: 0.280m\n",
      "  Spine: 0.525m\n"
     ]
    }
   ],
   "source": [
    "class AnthropometricModel:\n",
    "    \"\"\"\n",
    "    Anthropometric body proportions based on user height.\n",
    "    Standard ratios from biomechanical literature.\n",
    "    \"\"\"\n",
    "    def __init__(self, height_m=1.75):\n",
    "        self.height = height_m\n",
    "        \n",
    "        # Body segment lengths as percentages of height\n",
    "        self.neck_length = 0.05 * height_m          # 5% of height\n",
    "        self.shoulder_width = 0.25 * height_m       # 25% of height\n",
    "        self.upper_arm_length = 0.18 * height_m     # 18% of height\n",
    "        self.forearm_length = 0.16 * height_m       # 16% of height\n",
    "        self.spine_length = 0.30 * height_m         # 30% of height (total)\n",
    "        \n",
    "        # Spine segments (divide total spine into 3 segments)\n",
    "        self.upper_spine_length = 0.10 * height_m\n",
    "        self.mid_spine_length = 0.10 * height_m\n",
    "        self.lower_spine_length = 0.10 * height_m\n",
    "        \n",
    "    def __repr__(self):\n",
    "        return f\"\"\"AnthropometricModel(height={self.height}m)\n",
    "  Neck: {self.neck_length:.3f}m\n",
    "  Shoulder width: {self.shoulder_width:.3f}m\n",
    "  Upper arm: {self.upper_arm_length:.3f}m\n",
    "  Forearm: {self.forearm_length:.3f}m\n",
    "  Spine: {self.spine_length:.3f}m\"\"\"\n",
    "\n",
    "# Create model (user can input their height)\n",
    "USER_HEIGHT = 1.75  # meters (adjust as needed)\n",
    "body_model = AnthropometricModel(USER_HEIGHT)\n",
    "print(body_model)"
   ]
  },
  {
   "cell_type": "markdown",
   "id": "ae5cd1ae",
   "metadata": {},
   "source": [
    "## 6. Implement Joint Estimation Methods\n",
    "\n",
    "Methods to estimate missing joints (neck, shoulders, spine, elbows)."
   ]
  },
  {
   "cell_type": "code",
   "execution_count": 17,
   "id": "da0599d9",
   "metadata": {},
   "outputs": [
    {
     "name": "stdout",
     "output_type": "stream",
     "text": [
      "Test head quaternion: [-0.25042309 -0.00850102 -0.068528    0.96567071]\n",
      "Down vector: [-0.13660866 -0.86518438  0.48248737]\n"
     ]
    }
   ],
   "source": [
    "def quaternion_to_rotation_matrix(q):\n",
    "    \"\"\"Convert quaternion [qx, qy, qz, qw] to rotation matrix.\"\"\"\n",
    "    qx, qy, qz, qw = q\n",
    "    return np.array([\n",
    "        [1 - 2*(qy**2 + qz**2), 2*(qx*qy - qz*qw), 2*(qx*qz + qy*qw)],\n",
    "        [2*(qx*qy + qz*qw), 1 - 2*(qx**2 + qz**2), 2*(qy*qz - qx*qw)],\n",
    "        [2*(qx*qz - qy*qw), 2*(qy*qz + qx*qw), 1 - 2*(qx**2 + qy**2)]\n",
    "    ])\n",
    "\n",
    "def get_down_vector(head_quaternion):\n",
    "    \"\"\"Get the downward direction vector from head orientation.\"\"\"\n",
    "    rot_matrix = quaternion_to_rotation_matrix(head_quaternion)\n",
    "    # Down vector is negative Y in local frame\n",
    "    down_vector = -rot_matrix[:, 1]\n",
    "    return down_vector / np.linalg.norm(down_vector)\n",
    "\n",
    "# Test the functions\n",
    "test_quat = head_orientations[100]\n",
    "down = get_down_vector(test_quat)\n",
    "print(f\"Test head quaternion: {test_quat}\")\n",
    "print(f\"Down vector: {down}\")"
   ]
  },
  {
   "cell_type": "code",
   "execution_count": 18,
   "id": "d9cdea45",
   "metadata": {},
   "outputs": [
    {
     "name": "stdout",
     "output_type": "stream",
     "text": [
      "Head position: [ 0.02715789  1.06727942 -0.13187575]\n",
      "Estimated neck: [ 0.01520463  0.99157579 -0.08965811]\n",
      "Estimated upper spine: [-0.00870188  0.84016853 -0.00522282]\n",
      "Estimated mid spine: [-0.0326084   0.68876126  0.07921247]\n",
      "Estimated lower spine: [-0.05651491  0.53735399  0.16364777]\n"
     ]
    }
   ],
   "source": [
    "def estimate_neck_position(head_pos, head_quat, body_model):\n",
    "    \"\"\"Estimate neck position as offset below head.\"\"\"\n",
    "    down_vector = get_down_vector(head_quat)\n",
    "    neck_pos = head_pos + down_vector * body_model.neck_length\n",
    "    return neck_pos\n",
    "\n",
    "def estimate_spine_positions(neck_pos, head_quat, body_model):\n",
    "    \"\"\"Estimate upper, mid, and lower spine positions.\"\"\"\n",
    "    down_vector = get_down_vector(head_quat)\n",
    "    \n",
    "    upper_spine = neck_pos + down_vector * body_model.upper_spine_length\n",
    "    mid_spine = upper_spine + down_vector * body_model.mid_spine_length\n",
    "    lower_spine = mid_spine + down_vector * body_model.lower_spine_length\n",
    "    \n",
    "    return upper_spine, mid_spine, lower_spine\n",
    "\n",
    "# Test on a single frame\n",
    "test_frame = 100\n",
    "test_neck = estimate_neck_position(head_positions[test_frame], head_orientations[test_frame], body_model)\n",
    "test_spines = estimate_spine_positions(test_neck, head_orientations[test_frame], body_model)\n",
    "\n",
    "print(f\"Head position: {head_positions[test_frame]}\")\n",
    "print(f\"Estimated neck: {test_neck}\")\n",
    "print(f\"Estimated upper spine: {test_spines[0]}\")\n",
    "print(f\"Estimated mid spine: {test_spines[1]}\")\n",
    "print(f\"Estimated lower spine: {test_spines[2]}\")"
   ]
  },
  {
   "cell_type": "code",
   "execution_count": 19,
   "id": "de0b886e",
   "metadata": {},
   "outputs": [
    {
     "name": "stdout",
     "output_type": "stream",
     "text": [
      "Upper spine: [-0.00870188  0.84016853 -0.00522282]\n",
      "Left shoulder: [-0.22536573  0.86818893 -0.01632227]\n",
      "Right shoulder: [0.20796196 0.81214813 0.00587664]\n",
      "Shoulder distance: 0.438m\n"
     ]
    }
   ],
   "source": [
    "def estimate_shoulder_positions(upper_spine_pos, head_quat, body_model):\n",
    "    \"\"\"Estimate left and right shoulder positions.\"\"\"\n",
    "    rot_matrix = quaternion_to_rotation_matrix(head_quat)\n",
    "    # Right vector in local frame\n",
    "    right_vector = rot_matrix[:, 0]\n",
    "    right_vector = right_vector / np.linalg.norm(right_vector)\n",
    "    \n",
    "    # Shoulders are at shoulder width apart\n",
    "    left_shoulder = upper_spine_pos - right_vector * (body_model.shoulder_width / 2)\n",
    "    right_shoulder = upper_spine_pos + right_vector * (body_model.shoulder_width / 2)\n",
    "    \n",
    "    return left_shoulder, right_shoulder\n",
    "\n",
    "# Test shoulder estimation\n",
    "test_upper_spine = test_spines[0]\n",
    "test_left_shoulder, test_right_shoulder = estimate_shoulder_positions(\n",
    "    test_upper_spine, head_orientations[test_frame], body_model\n",
    ")\n",
    "\n",
    "print(f\"Upper spine: {test_upper_spine}\")\n",
    "print(f\"Left shoulder: {test_left_shoulder}\")\n",
    "print(f\"Right shoulder: {test_right_shoulder}\")\n",
    "print(f\"Shoulder distance: {np.linalg.norm(test_right_shoulder - test_left_shoulder):.3f}m\")"
   ]
  },
  {
   "cell_type": "markdown",
   "id": "27ea1d7c",
   "metadata": {},
   "source": [
    "## 7. Implement Elbow IK with Three-Point Constraint\n",
    "\n",
    "Use shoulder (estimated), forearm (known), and wrist (known) to solve for elbow position."
   ]
  },
  {
   "cell_type": "code",
   "execution_count": 20,
   "id": "70b64dee",
   "metadata": {},
   "outputs": [
    {
     "name": "stdout",
     "output_type": "stream",
     "text": [
      "Right elbow: [ 0.35659394  0.5907232  -0.16176744]\n",
      "Distance shoulder to elbow: 0.315m\n",
      "\n",
      "Left elbow: [-0.30237278  0.59790935 -0.15860321]\n",
      "Distance shoulder to elbow: 0.315m\n"
     ]
    }
   ],
   "source": [
    "def estimate_elbow_position(shoulder_pos, forearm_pos, wrist_pos, upper_arm_length):\n",
    "    \"\"\"\n",
    "    Estimate elbow position using three constraint points.\n",
    "    \n",
    "    Strategy:\n",
    "    - Elbow should be between shoulder and forearm joint\n",
    "    - Distance from shoulder to elbow = upper_arm_length\n",
    "    - Elbow positioned along the shoulder-to-forearm direction\n",
    "    \"\"\"\n",
    "    # Direction from shoulder to forearm\n",
    "    shoulder_to_forearm = forearm_pos - shoulder_pos\n",
    "    distance_to_forearm = np.linalg.norm(shoulder_to_forearm)\n",
    "    \n",
    "    if distance_to_forearm < upper_arm_length:\n",
    "        # Forearm is closer than upper arm length - place elbow proportionally\n",
    "        direction = shoulder_to_forearm / distance_to_forearm\n",
    "        elbow_pos = shoulder_pos + direction * upper_arm_length\n",
    "    else:\n",
    "        # Normal case - place elbow at upper arm length along the direction\n",
    "        direction = shoulder_to_forearm / distance_to_forearm\n",
    "        elbow_pos = shoulder_pos + direction * upper_arm_length\n",
    "    \n",
    "    return elbow_pos\n",
    "\n",
    "# Test elbow estimation\n",
    "test_right_elbow = estimate_elbow_position(\n",
    "    test_right_shoulder,\n",
    "    right_forearm_pos[test_frame],\n",
    "    right_wrist_pos[test_frame],\n",
    "    body_model.upper_arm_length\n",
    ")\n",
    "\n",
    "test_left_elbow = estimate_elbow_position(\n",
    "    test_left_shoulder,\n",
    "    left_forearm_pos[test_frame],\n",
    "    left_wrist_pos[test_frame],\n",
    "    body_model.upper_arm_length\n",
    ")\n",
    "\n",
    "print(f\"Right elbow: {test_right_elbow}\")\n",
    "print(f\"Distance shoulder to elbow: {np.linalg.norm(test_right_elbow - test_right_shoulder):.3f}m\")\n",
    "print(f\"\\nLeft elbow: {test_left_elbow}\")\n",
    "print(f\"Distance shoulder to elbow: {np.linalg.norm(test_left_elbow - test_left_shoulder):.3f}m\")"
   ]
  },
  {
   "cell_type": "markdown",
   "id": "7d9cdfb5",
   "metadata": {},
   "source": [
    "## 8. Complete Skeleton Reconstruction\n",
    "\n",
    "Combine all estimation methods into a complete skeleton reconstruction function."
   ]
  },
  {
   "cell_type": "code",
   "execution_count": 21,
   "id": "306c8a93",
   "metadata": {},
   "outputs": [
    {
     "name": "stdout",
     "output_type": "stream",
     "text": [
      "Reconstructed skeleton joints:\n",
      "  head: [ 0.02715789  1.06727942 -0.13187575]\n",
      "  neck: [ 0.01520463  0.99157579 -0.08965811]\n",
      "  upper_spine: [-0.00870188  0.84016853 -0.00522282]\n",
      "  mid_spine: [-0.0326084   0.68876126  0.07921247]\n",
      "  lower_spine: [-0.05651491  0.53735399  0.16364777]\n",
      "  left_shoulder: [-0.22536573  0.86818893 -0.01632227]\n",
      "  right_shoulder: [0.20796196 0.81214813 0.00587664]\n",
      "  left_elbow: [-0.30237278  0.59790935 -0.15860321]\n",
      "  right_elbow: [ 0.35659394  0.5907232  -0.16176744]\n",
      "  left_wrist: [-0.13726911  0.7446337  -0.28581917]\n",
      "  right_wrist: [ 0.21824683  0.8634487  -0.2548641 ]\n"
     ]
    }
   ],
   "source": [
    "class UpperBodySkeleton:\n",
    "    \"\"\"Complete upper body skeleton with all joints.\"\"\"\n",
    "    def __init__(self):\n",
    "        self.head = None\n",
    "        self.neck = None\n",
    "        self.upper_spine = None\n",
    "        self.mid_spine = None\n",
    "        self.lower_spine = None\n",
    "        self.left_shoulder = None\n",
    "        self.right_shoulder = None\n",
    "        self.left_elbow = None\n",
    "        self.right_elbow = None\n",
    "        self.left_wrist = None\n",
    "        self.right_wrist = None\n",
    "        self.left_forearm = None\n",
    "        self.right_forearm = None\n",
    "    \n",
    "    def get_all_joints(self):\n",
    "        \"\"\"Return dictionary of all joint positions.\"\"\"\n",
    "        return {\n",
    "            'head': self.head,\n",
    "            'neck': self.neck,\n",
    "            'upper_spine': self.upper_spine,\n",
    "            'mid_spine': self.mid_spine,\n",
    "            'lower_spine': self.lower_spine,\n",
    "            'left_shoulder': self.left_shoulder,\n",
    "            'right_shoulder': self.right_shoulder,\n",
    "            'left_elbow': self.left_elbow,\n",
    "            'right_elbow': self.right_elbow,\n",
    "            'left_wrist': self.left_wrist,\n",
    "            'right_wrist': self.right_wrist,\n",
    "        }\n",
    "\n",
    "def reconstruct_skeleton(frame_idx, head_pos, head_quat, \n",
    "                         left_wrist, right_wrist,\n",
    "                         left_forearm, right_forearm,\n",
    "                         body_model):\n",
    "    \"\"\"\n",
    "    Reconstruct complete upper body skeleton for a single frame.\n",
    "    \"\"\"\n",
    "    skeleton = UpperBodySkeleton()\n",
    "    \n",
    "    # Known joints\n",
    "    skeleton.head = head_pos\n",
    "    skeleton.left_wrist = left_wrist\n",
    "    skeleton.right_wrist = right_wrist\n",
    "    skeleton.left_forearm = left_forearm\n",
    "    skeleton.right_forearm = right_forearm\n",
    "    \n",
    "    # Estimate hardcoded joints\n",
    "    skeleton.neck = estimate_neck_position(head_pos, head_quat, body_model)\n",
    "    upper, mid, lower = estimate_spine_positions(skeleton.neck, head_quat, body_model)\n",
    "    skeleton.upper_spine = upper\n",
    "    skeleton.mid_spine = mid\n",
    "    skeleton.lower_spine = lower\n",
    "    \n",
    "    # Estimate shoulders\n",
    "    skeleton.left_shoulder, skeleton.right_shoulder = estimate_shoulder_positions(\n",
    "        skeleton.upper_spine, head_quat, body_model\n",
    "    )\n",
    "    \n",
    "    # Estimate elbows using IK\n",
    "    skeleton.left_elbow = estimate_elbow_position(\n",
    "        skeleton.left_shoulder, left_forearm, left_wrist, body_model.upper_arm_length\n",
    "    )\n",
    "    skeleton.right_elbow = estimate_elbow_position(\n",
    "        skeleton.right_shoulder, right_forearm, right_wrist, body_model.upper_arm_length\n",
    "    )\n",
    "    \n",
    "    return skeleton\n",
    "\n",
    "# Test complete reconstruction\n",
    "test_skeleton = reconstruct_skeleton(\n",
    "    test_frame,\n",
    "    head_positions[test_frame],\n",
    "    head_orientations[test_frame],\n",
    "    left_wrist_pos[test_frame],\n",
    "    right_wrist_pos[test_frame],\n",
    "    left_forearm_pos[test_frame],\n",
    "    right_forearm_pos[test_frame],\n",
    "    body_model\n",
    ")\n",
    "\n",
    "print(\"Reconstructed skeleton joints:\")\n",
    "for joint_name, joint_pos in test_skeleton.get_all_joints().items():\n",
    "    if joint_pos is not None:\n",
    "        print(f\"  {joint_name}: {joint_pos}\")"
   ]
  },
  {
   "cell_type": "markdown",
   "id": "23fb1d3e",
   "metadata": {},
   "source": [
    "## 9. Visualize Complete Reconstructed Skeleton\n",
    "\n",
    "Visualize the complete upper body skeleton with both known and estimated joints."
   ]
  },
  {
   "cell_type": "code",
   "execution_count": 23,
   "id": "a03ad32e",
   "metadata": {},
   "outputs": [
    {
     "data": {
      "application/vnd.plotly.v1+json": {
       "config": {
        "plotlyServerURL": "https://plot.ly"
       },
       "data": [
        {
         "line": {
          "color": "gray",
          "width": 4
         },
         "mode": "lines",
         "showlegend": false,
         "type": "scatter3d",
         "x": [
          0.027157889739654384,
          0.015204631973156612
         ],
         "y": [
          1.0672794247298345,
          0.9915757916504928
         ],
         "z": [
          -0.13187575118347816,
          -0.08965810597017834
         ]
        },
        {
         "line": {
          "color": "gray",
          "width": 4
         },
         "mode": "lines",
         "showlegend": false,
         "type": "scatter3d",
         "x": [
          0.015204631973156612,
          -0.008701883559838931
         ],
         "y": [
          0.9915757916504928,
          0.8401685254918093
         ],
         "z": [
          -0.08965810597017834,
          -0.005222815543578702
         ]
        },
        {
         "line": {
          "color": "gray",
          "width": 4
         },
         "mode": "lines",
         "showlegend": false,
         "type": "scatter3d",
         "x": [
          -0.008701883559838931,
          -0.03260839909283447
         ],
         "y": [
          0.8401685254918093,
          0.6887612593331258
         ],
         "z": [
          -0.005222815543578702,
          0.07921247488302094
         ]
        },
        {
         "line": {
          "color": "gray",
          "width": 4
         },
         "mode": "lines",
         "showlegend": false,
         "type": "scatter3d",
         "x": [
          -0.03260839909283447,
          -0.05651491462583001
         ],
         "y": [
          0.6887612593331258,
          0.5373539931744423
         ],
         "z": [
          0.07921247488302094,
          0.16364776530962058
         ]
        },
        {
         "line": {
          "color": "gray",
          "width": 4
         },
         "mode": "lines",
         "showlegend": false,
         "type": "scatter3d",
         "x": [
          -0.008701883559838931,
          -0.22536572884543912
         ],
         "y": [
          0.8401685254918093,
          0.8681889256997872
         ],
         "z": [
          -0.005222815543578702,
          -0.016322266802188422
         ]
        },
        {
         "line": {
          "color": "gray",
          "width": 4
         },
         "mode": "lines",
         "showlegend": false,
         "type": "scatter3d",
         "x": [
          -0.008701883559838931,
          0.20796196172576129
         ],
         "y": [
          0.8401685254918093,
          0.8121481252838314
         ],
         "z": [
          -0.005222815543578702,
          0.00587663571503102
         ]
        },
        {
         "line": {
          "color": "gray",
          "width": 4
         },
         "mode": "lines",
         "showlegend": false,
         "type": "scatter3d",
         "x": [
          -0.22536572884543912,
          -0.302372778818777
         ],
         "y": [
          0.8681889256997872,
          0.5979093541098803
         ],
         "z": [
          -0.016322266802188422,
          -0.15860321224317234
         ]
        },
        {
         "line": {
          "color": "gray",
          "width": 4
         },
         "mode": "lines",
         "showlegend": false,
         "type": "scatter3d",
         "x": [
          -0.302372778818777,
          -0.13726911
         ],
         "y": [
          0.5979093541098803,
          0.7446337
         ],
         "z": [
          -0.15860321224317234,
          -0.28581917
         ]
        },
        {
         "line": {
          "color": "gray",
          "width": 4
         },
         "mode": "lines",
         "showlegend": false,
         "type": "scatter3d",
         "x": [
          0.20796196172576129,
          0.3565939381411418
         ],
         "y": [
          0.8121481252838314,
          0.5907231979945324
         ],
         "z": [
          0.00587663571503102,
          -0.1617674431001375
         ]
        },
        {
         "line": {
          "color": "gray",
          "width": 4
         },
         "mode": "lines",
         "showlegend": false,
         "type": "scatter3d",
         "x": [
          0.3565939381411418,
          0.21824683
         ],
         "y": [
          0.5907231979945324,
          0.8634487
         ],
         "z": [
          -0.1617674431001375,
          -0.2548641
         ]
        },
        {
         "marker": {
          "color": "red",
          "size": 12
         },
         "mode": "markers",
         "name": "head",
         "type": "scatter3d",
         "x": [
          0.027157889739654384
         ],
         "y": [
          1.0672794247298345
         ],
         "z": [
          -0.13187575118347816
         ]
        },
        {
         "marker": {
          "color": "blue",
          "size": 8
         },
         "mode": "markers",
         "name": "neck",
         "type": "scatter3d",
         "x": [
          0.015204631973156612
         ],
         "y": [
          0.9915757916504928
         ],
         "z": [
          -0.08965810597017834
         ]
        },
        {
         "marker": {
          "color": "blue",
          "size": 8
         },
         "mode": "markers",
         "name": "upper_spine",
         "type": "scatter3d",
         "x": [
          -0.008701883559838931
         ],
         "y": [
          0.8401685254918093
         ],
         "z": [
          -0.005222815543578702
         ]
        },
        {
         "marker": {
          "color": "blue",
          "size": 8
         },
         "mode": "markers",
         "name": "mid_spine",
         "type": "scatter3d",
         "x": [
          -0.03260839909283447
         ],
         "y": [
          0.6887612593331258
         ],
         "z": [
          0.07921247488302094
         ]
        },
        {
         "marker": {
          "color": "blue",
          "size": 8
         },
         "mode": "markers",
         "name": "lower_spine",
         "type": "scatter3d",
         "x": [
          -0.05651491462583001
         ],
         "y": [
          0.5373539931744423
         ],
         "z": [
          0.16364776530962058
         ]
        },
        {
         "marker": {
          "color": "green",
          "size": 8
         },
         "mode": "markers",
         "name": "left_shoulder",
         "type": "scatter3d",
         "x": [
          -0.22536572884543912
         ],
         "y": [
          0.8681889256997872
         ],
         "z": [
          -0.016322266802188422
         ]
        },
        {
         "marker": {
          "color": "green",
          "size": 8
         },
         "mode": "markers",
         "name": "right_shoulder",
         "type": "scatter3d",
         "x": [
          0.20796196172576129
         ],
         "y": [
          0.8121481252838314
         ],
         "z": [
          0.00587663571503102
         ]
        },
        {
         "marker": {
          "color": "green",
          "size": 8
         },
         "mode": "markers",
         "name": "left_elbow",
         "type": "scatter3d",
         "x": [
          -0.302372778818777
         ],
         "y": [
          0.5979093541098803
         ],
         "z": [
          -0.15860321224317234
         ]
        },
        {
         "marker": {
          "color": "green",
          "size": 8
         },
         "mode": "markers",
         "name": "right_elbow",
         "type": "scatter3d",
         "x": [
          0.3565939381411418
         ],
         "y": [
          0.5907231979945324
         ],
         "z": [
          -0.1617674431001375
         ]
        },
        {
         "marker": {
          "color": "green",
          "size": 8
         },
         "mode": "markers",
         "name": "left_wrist",
         "type": "scatter3d",
         "x": [
          -0.13726911
         ],
         "y": [
          0.7446337
         ],
         "z": [
          -0.28581917
         ]
        },
        {
         "marker": {
          "color": "green",
          "size": 8
         },
         "mode": "markers",
         "name": "right_wrist",
         "type": "scatter3d",
         "x": [
          0.21824683
         ],
         "y": [
          0.8634487
         ],
         "z": [
          -0.2548641
         ]
        }
       ],
       "layout": {
        "height": 700,
        "scene": {
         "aspectmode": "data",
         "xaxis": {
          "title": {
           "text": "X (m)"
          }
         },
         "yaxis": {
          "title": {
           "text": "Y (m)"
          }
         },
         "zaxis": {
          "title": {
           "text": "Z (m)"
          }
         }
        },
        "template": {
         "data": {
          "bar": [
           {
            "error_x": {
             "color": "#2a3f5f"
            },
            "error_y": {
             "color": "#2a3f5f"
            },
            "marker": {
             "line": {
              "color": "#E5ECF6",
              "width": 0.5
             },
             "pattern": {
              "fillmode": "overlay",
              "size": 10,
              "solidity": 0.2
             }
            },
            "type": "bar"
           }
          ],
          "barpolar": [
           {
            "marker": {
             "line": {
              "color": "#E5ECF6",
              "width": 0.5
             },
             "pattern": {
              "fillmode": "overlay",
              "size": 10,
              "solidity": 0.2
             }
            },
            "type": "barpolar"
           }
          ],
          "carpet": [
           {
            "aaxis": {
             "endlinecolor": "#2a3f5f",
             "gridcolor": "white",
             "linecolor": "white",
             "minorgridcolor": "white",
             "startlinecolor": "#2a3f5f"
            },
            "baxis": {
             "endlinecolor": "#2a3f5f",
             "gridcolor": "white",
             "linecolor": "white",
             "minorgridcolor": "white",
             "startlinecolor": "#2a3f5f"
            },
            "type": "carpet"
           }
          ],
          "choropleth": [
           {
            "colorbar": {
             "outlinewidth": 0,
             "ticks": ""
            },
            "type": "choropleth"
           }
          ],
          "contour": [
           {
            "colorbar": {
             "outlinewidth": 0,
             "ticks": ""
            },
            "colorscale": [
             [
              0,
              "#0d0887"
             ],
             [
              0.1111111111111111,
              "#46039f"
             ],
             [
              0.2222222222222222,
              "#7201a8"
             ],
             [
              0.3333333333333333,
              "#9c179e"
             ],
             [
              0.4444444444444444,
              "#bd3786"
             ],
             [
              0.5555555555555556,
              "#d8576b"
             ],
             [
              0.6666666666666666,
              "#ed7953"
             ],
             [
              0.7777777777777778,
              "#fb9f3a"
             ],
             [
              0.8888888888888888,
              "#fdca26"
             ],
             [
              1,
              "#f0f921"
             ]
            ],
            "type": "contour"
           }
          ],
          "contourcarpet": [
           {
            "colorbar": {
             "outlinewidth": 0,
             "ticks": ""
            },
            "type": "contourcarpet"
           }
          ],
          "heatmap": [
           {
            "colorbar": {
             "outlinewidth": 0,
             "ticks": ""
            },
            "colorscale": [
             [
              0,
              "#0d0887"
             ],
             [
              0.1111111111111111,
              "#46039f"
             ],
             [
              0.2222222222222222,
              "#7201a8"
             ],
             [
              0.3333333333333333,
              "#9c179e"
             ],
             [
              0.4444444444444444,
              "#bd3786"
             ],
             [
              0.5555555555555556,
              "#d8576b"
             ],
             [
              0.6666666666666666,
              "#ed7953"
             ],
             [
              0.7777777777777778,
              "#fb9f3a"
             ],
             [
              0.8888888888888888,
              "#fdca26"
             ],
             [
              1,
              "#f0f921"
             ]
            ],
            "type": "heatmap"
           }
          ],
          "histogram": [
           {
            "marker": {
             "pattern": {
              "fillmode": "overlay",
              "size": 10,
              "solidity": 0.2
             }
            },
            "type": "histogram"
           }
          ],
          "histogram2d": [
           {
            "colorbar": {
             "outlinewidth": 0,
             "ticks": ""
            },
            "colorscale": [
             [
              0,
              "#0d0887"
             ],
             [
              0.1111111111111111,
              "#46039f"
             ],
             [
              0.2222222222222222,
              "#7201a8"
             ],
             [
              0.3333333333333333,
              "#9c179e"
             ],
             [
              0.4444444444444444,
              "#bd3786"
             ],
             [
              0.5555555555555556,
              "#d8576b"
             ],
             [
              0.6666666666666666,
              "#ed7953"
             ],
             [
              0.7777777777777778,
              "#fb9f3a"
             ],
             [
              0.8888888888888888,
              "#fdca26"
             ],
             [
              1,
              "#f0f921"
             ]
            ],
            "type": "histogram2d"
           }
          ],
          "histogram2dcontour": [
           {
            "colorbar": {
             "outlinewidth": 0,
             "ticks": ""
            },
            "colorscale": [
             [
              0,
              "#0d0887"
             ],
             [
              0.1111111111111111,
              "#46039f"
             ],
             [
              0.2222222222222222,
              "#7201a8"
             ],
             [
              0.3333333333333333,
              "#9c179e"
             ],
             [
              0.4444444444444444,
              "#bd3786"
             ],
             [
              0.5555555555555556,
              "#d8576b"
             ],
             [
              0.6666666666666666,
              "#ed7953"
             ],
             [
              0.7777777777777778,
              "#fb9f3a"
             ],
             [
              0.8888888888888888,
              "#fdca26"
             ],
             [
              1,
              "#f0f921"
             ]
            ],
            "type": "histogram2dcontour"
           }
          ],
          "mesh3d": [
           {
            "colorbar": {
             "outlinewidth": 0,
             "ticks": ""
            },
            "type": "mesh3d"
           }
          ],
          "parcoords": [
           {
            "line": {
             "colorbar": {
              "outlinewidth": 0,
              "ticks": ""
             }
            },
            "type": "parcoords"
           }
          ],
          "pie": [
           {
            "automargin": true,
            "type": "pie"
           }
          ],
          "scatter": [
           {
            "fillpattern": {
             "fillmode": "overlay",
             "size": 10,
             "solidity": 0.2
            },
            "type": "scatter"
           }
          ],
          "scatter3d": [
           {
            "line": {
             "colorbar": {
              "outlinewidth": 0,
              "ticks": ""
             }
            },
            "marker": {
             "colorbar": {
              "outlinewidth": 0,
              "ticks": ""
             }
            },
            "type": "scatter3d"
           }
          ],
          "scattercarpet": [
           {
            "marker": {
             "colorbar": {
              "outlinewidth": 0,
              "ticks": ""
             }
            },
            "type": "scattercarpet"
           }
          ],
          "scattergeo": [
           {
            "marker": {
             "colorbar": {
              "outlinewidth": 0,
              "ticks": ""
             }
            },
            "type": "scattergeo"
           }
          ],
          "scattergl": [
           {
            "marker": {
             "colorbar": {
              "outlinewidth": 0,
              "ticks": ""
             }
            },
            "type": "scattergl"
           }
          ],
          "scattermap": [
           {
            "marker": {
             "colorbar": {
              "outlinewidth": 0,
              "ticks": ""
             }
            },
            "type": "scattermap"
           }
          ],
          "scattermapbox": [
           {
            "marker": {
             "colorbar": {
              "outlinewidth": 0,
              "ticks": ""
             }
            },
            "type": "scattermapbox"
           }
          ],
          "scatterpolar": [
           {
            "marker": {
             "colorbar": {
              "outlinewidth": 0,
              "ticks": ""
             }
            },
            "type": "scatterpolar"
           }
          ],
          "scatterpolargl": [
           {
            "marker": {
             "colorbar": {
              "outlinewidth": 0,
              "ticks": ""
             }
            },
            "type": "scatterpolargl"
           }
          ],
          "scatterternary": [
           {
            "marker": {
             "colorbar": {
              "outlinewidth": 0,
              "ticks": ""
             }
            },
            "type": "scatterternary"
           }
          ],
          "surface": [
           {
            "colorbar": {
             "outlinewidth": 0,
             "ticks": ""
            },
            "colorscale": [
             [
              0,
              "#0d0887"
             ],
             [
              0.1111111111111111,
              "#46039f"
             ],
             [
              0.2222222222222222,
              "#7201a8"
             ],
             [
              0.3333333333333333,
              "#9c179e"
             ],
             [
              0.4444444444444444,
              "#bd3786"
             ],
             [
              0.5555555555555556,
              "#d8576b"
             ],
             [
              0.6666666666666666,
              "#ed7953"
             ],
             [
              0.7777777777777778,
              "#fb9f3a"
             ],
             [
              0.8888888888888888,
              "#fdca26"
             ],
             [
              1,
              "#f0f921"
             ]
            ],
            "type": "surface"
           }
          ],
          "table": [
           {
            "cells": {
             "fill": {
              "color": "#EBF0F8"
             },
             "line": {
              "color": "white"
             }
            },
            "header": {
             "fill": {
              "color": "#C8D4E3"
             },
             "line": {
              "color": "white"
             }
            },
            "type": "table"
           }
          ]
         },
         "layout": {
          "annotationdefaults": {
           "arrowcolor": "#2a3f5f",
           "arrowhead": 0,
           "arrowwidth": 1
          },
          "autotypenumbers": "strict",
          "coloraxis": {
           "colorbar": {
            "outlinewidth": 0,
            "ticks": ""
           }
          },
          "colorscale": {
           "diverging": [
            [
             0,
             "#8e0152"
            ],
            [
             0.1,
             "#c51b7d"
            ],
            [
             0.2,
             "#de77ae"
            ],
            [
             0.3,
             "#f1b6da"
            ],
            [
             0.4,
             "#fde0ef"
            ],
            [
             0.5,
             "#f7f7f7"
            ],
            [
             0.6,
             "#e6f5d0"
            ],
            [
             0.7,
             "#b8e186"
            ],
            [
             0.8,
             "#7fbc41"
            ],
            [
             0.9,
             "#4d9221"
            ],
            [
             1,
             "#276419"
            ]
           ],
           "sequential": [
            [
             0,
             "#0d0887"
            ],
            [
             0.1111111111111111,
             "#46039f"
            ],
            [
             0.2222222222222222,
             "#7201a8"
            ],
            [
             0.3333333333333333,
             "#9c179e"
            ],
            [
             0.4444444444444444,
             "#bd3786"
            ],
            [
             0.5555555555555556,
             "#d8576b"
            ],
            [
             0.6666666666666666,
             "#ed7953"
            ],
            [
             0.7777777777777778,
             "#fb9f3a"
            ],
            [
             0.8888888888888888,
             "#fdca26"
            ],
            [
             1,
             "#f0f921"
            ]
           ],
           "sequentialminus": [
            [
             0,
             "#0d0887"
            ],
            [
             0.1111111111111111,
             "#46039f"
            ],
            [
             0.2222222222222222,
             "#7201a8"
            ],
            [
             0.3333333333333333,
             "#9c179e"
            ],
            [
             0.4444444444444444,
             "#bd3786"
            ],
            [
             0.5555555555555556,
             "#d8576b"
            ],
            [
             0.6666666666666666,
             "#ed7953"
            ],
            [
             0.7777777777777778,
             "#fb9f3a"
            ],
            [
             0.8888888888888888,
             "#fdca26"
            ],
            [
             1,
             "#f0f921"
            ]
           ]
          },
          "colorway": [
           "#636efa",
           "#EF553B",
           "#00cc96",
           "#ab63fa",
           "#FFA15A",
           "#19d3f3",
           "#FF6692",
           "#B6E880",
           "#FF97FF",
           "#FECB52"
          ],
          "font": {
           "color": "#2a3f5f"
          },
          "geo": {
           "bgcolor": "white",
           "lakecolor": "white",
           "landcolor": "#E5ECF6",
           "showlakes": true,
           "showland": true,
           "subunitcolor": "white"
          },
          "hoverlabel": {
           "align": "left"
          },
          "hovermode": "closest",
          "mapbox": {
           "style": "light"
          },
          "paper_bgcolor": "white",
          "plot_bgcolor": "#E5ECF6",
          "polar": {
           "angularaxis": {
            "gridcolor": "white",
            "linecolor": "white",
            "ticks": ""
           },
           "bgcolor": "#E5ECF6",
           "radialaxis": {
            "gridcolor": "white",
            "linecolor": "white",
            "ticks": ""
           }
          },
          "scene": {
           "xaxis": {
            "backgroundcolor": "#E5ECF6",
            "gridcolor": "white",
            "gridwidth": 2,
            "linecolor": "white",
            "showbackground": true,
            "ticks": "",
            "zerolinecolor": "white"
           },
           "yaxis": {
            "backgroundcolor": "#E5ECF6",
            "gridcolor": "white",
            "gridwidth": 2,
            "linecolor": "white",
            "showbackground": true,
            "ticks": "",
            "zerolinecolor": "white"
           },
           "zaxis": {
            "backgroundcolor": "#E5ECF6",
            "gridcolor": "white",
            "gridwidth": 2,
            "linecolor": "white",
            "showbackground": true,
            "ticks": "",
            "zerolinecolor": "white"
           }
          },
          "shapedefaults": {
           "line": {
            "color": "#2a3f5f"
           }
          },
          "ternary": {
           "aaxis": {
            "gridcolor": "white",
            "linecolor": "white",
            "ticks": ""
           },
           "baxis": {
            "gridcolor": "white",
            "linecolor": "white",
            "ticks": ""
           },
           "bgcolor": "#E5ECF6",
           "caxis": {
            "gridcolor": "white",
            "linecolor": "white",
            "ticks": ""
           }
          },
          "title": {
           "x": 0.05
          },
          "xaxis": {
           "automargin": true,
           "gridcolor": "white",
           "linecolor": "white",
           "ticks": "",
           "title": {
            "standoff": 15
           },
           "zerolinecolor": "white",
           "zerolinewidth": 2
          },
          "yaxis": {
           "automargin": true,
           "gridcolor": "white",
           "linecolor": "white",
           "ticks": "",
           "title": {
            "standoff": 15
           },
           "zerolinecolor": "white",
           "zerolinewidth": 2
          }
         }
        },
        "title": {
         "text": "Reconstructed Skeleton (Frame 100)"
        },
        "width": 900
       }
      },
      "image/png": "[encoded data removed]"
     },
     "metadata": {},
     "output_type": "display_data"
    }
   ],
   "source": [
    "def visualize_skeleton(skeleton, title=\"Upper Body Skeleton\"):\n",
    "    \"\"\"\n",
    "    Visualize the complete skeleton with connections.\n",
    "    \"\"\"\n",
    "    fig = go.Figure()\n",
    "    \n",
    "    joints = skeleton.get_all_joints()\n",
    "    \n",
    "    # Define skeleton connections (bones)\n",
    "    connections = [\n",
    "        ('head', 'neck'),\n",
    "        ('neck', 'upper_spine'),\n",
    "        ('upper_spine', 'mid_spine'),\n",
    "        ('mid_spine', 'lower_spine'),\n",
    "        ('upper_spine', 'left_shoulder'),\n",
    "        ('upper_spine', 'right_shoulder'),\n",
    "        ('left_shoulder', 'left_elbow'),\n",
    "        ('left_elbow', 'left_wrist'),\n",
    "        ('right_shoulder', 'right_elbow'),\n",
    "        ('right_elbow', 'right_wrist'),\n",
    "    ]\n",
    "    \n",
    "    # Plot bones as lines\n",
    "    for start_joint, end_joint in connections:\n",
    "        if joints[start_joint] is not None and joints[end_joint] is not None:\n",
    "            start_pos = joints[start_joint]\n",
    "            end_pos = joints[end_joint]\n",
    "            \n",
    "            fig.add_trace(go.Scatter3d(\n",
    "                x=[start_pos[0], end_pos[0]],\n",
    "                y=[start_pos[1], end_pos[1]],\n",
    "                z=[start_pos[2], end_pos[2]],\n",
    "                mode='lines',\n",
    "                line=dict(color='gray', width=4),\n",
    "                showlegend=False\n",
    "            ))\n",
    "    \n",
    "    # Plot joints as markers\n",
    "    for joint_name, joint_pos in joints.items():\n",
    "        if joint_pos is not None:\n",
    "            # Color code: red for head, blue for spine, green for arms\n",
    "            if 'head' in joint_name:\n",
    "                color = 'red'\n",
    "                size = 12\n",
    "            elif 'spine' in joint_name or 'neck' in joint_name:\n",
    "                color = 'blue'\n",
    "                size = 8\n",
    "            else:\n",
    "                color = 'green'\n",
    "                size = 8\n",
    "            \n",
    "            fig.add_trace(go.Scatter3d(\n",
    "                x=[joint_pos[0]],\n",
    "                y=[joint_pos[1]],\n",
    "                z=[joint_pos[2]],\n",
    "                mode='markers',\n",
    "                marker=dict(size=size, color=color),\n",
    "                name=joint_name\n",
    "            ))\n",
    "    \n",
    "    fig.update_layout(\n",
    "        title=title,\n",
    "        scene=dict(\n",
    "            xaxis_title='X (m)',\n",
    "            yaxis_title='Y (m)',\n",
    "            zaxis_title='Z (m)',\n",
    "            aspectmode='data'\n",
    "        ),\n",
    "        width=900,\n",
    "        height=700\n",
    "    )\n",
    "    \n",
    "    return fig\n",
    "\n",
    "# Visualize the reconstructed skeleton\n",
    "fig = visualize_skeleton(test_skeleton, f\"Reconstructed Skeleton (Frame {test_frame})\")\n",
    "fig.show()"
   ]
  },
  {
   "cell_type": "markdown",
   "id": "ae8d1079",
   "metadata": {},
   "source": [
    "## 10. Single Frame Analysis\n",
    "\n",
    "Focus on reconstructing and analyzing a single frame."
   ]
  },
  {
   "cell_type": "code",
   "execution_count": null,
   "id": "09523899",
   "metadata": {},
   "outputs": [],
   "source": [
    "# Select a frame to analyze\n",
    "test_frame = 100\n",
    "\n",
    "# Reconstruct skeleton for this single frame\n",
    "print(f\"Reconstructing skeleton for frame {test_frame}...\")\n",
    "single_skeleton = reconstruct_skeleton(\n",
    "    test_frame,\n",
    "    head_positions[test_frame],\n",
    "    head_orientations[test_frame],\n",
    "    left_wrist_pos[test_frame],\n",
    "    right_wrist_pos[test_frame],\n",
    "    left_forearm_pos[test_frame],\n",
    "    right_forearm_pos[test_frame],\n",
    "    body_model\n",
    ")\n",
    "\n",
    "print(\"\\nReconstruction complete!\")\n",
    "print(\"\\nJoint positions:\")\n",
    "joints = single_skeleton.get_all_joints()\n",
    "for joint_name, joint_pos in joints.items():\n",
    "    if joint_pos is not None:\n",
    "        print(f\"  {joint_name}: [{joint_pos[0]:.3f}, {joint_pos[1]:.3f}, {joint_pos[2]:.3f}]\")"
   ]
  },
  {
   "cell_type": "markdown",
   "id": "cb9f35c3",
   "metadata": {},
   "source": [
    "## 11. Validate Single Frame Results\n",
    "\n",
    "Check bone lengths and joint positions for the reconstructed frame."
   ]
  },
  {
   "cell_type": "code",
   "execution_count": null,
   "id": "0459fcfc",
   "metadata": {},
   "outputs": [],
   "source": [
    "def validate_skeleton(skeleton, body_model):\n",
    "    \"\"\"\n",
    "    Validate skeleton measurements against expected bone lengths.\n",
    "    \"\"\"\n",
    "    results = {}\n",
    "    \n",
    "    # Check upper arm lengths\n",
    "    if skeleton.left_shoulder is not None and skeleton.left_elbow is not None:\n",
    "        left_upper_arm = np.linalg.norm(skeleton.left_elbow - skeleton.left_shoulder)\n",
    "        results['left_upper_arm'] = left_upper_arm\n",
    "    \n",
    "    if skeleton.right_shoulder is not None and skeleton.right_elbow is not None:\n",
    "        right_upper_arm = np.linalg.norm(skeleton.right_elbow - skeleton.right_shoulder)\n",
    "        results['right_upper_arm'] = right_upper_arm\n",
    "    \n",
    "    # Check shoulder width\n",
    "    if skeleton.left_shoulder is not None and skeleton.right_shoulder is not None:\n",
    "        shoulder_width = np.linalg.norm(skeleton.right_shoulder - skeleton.left_shoulder)\n",
    "        results['shoulder_width'] = shoulder_width\n",
    "    \n",
    "    # Check neck length\n",
    "    if skeleton.head is not None and skeleton.neck is not None:\n",
    "        neck_length = np.linalg.norm(skeleton.neck - skeleton.head)\n",
    "        results['neck_length'] = neck_length\n",
    "    \n",
    "    return results\n",
    "\n",
    "# Validate the reconstructed skeleton\n",
    "print(\"Validation Results for Frame\", test_frame)\n",
    "print(\"=\" * 50)\n",
    "print(f\"\\nExpected measurements (from anthropometric model):\")\n",
    "print(f\"  Upper arm length: {body_model.upper_arm_length:.3f}m\")\n",
    "print(f\"  Shoulder width: {body_model.shoulder_width:.3f}m\")\n",
    "print(f\"  Neck length: {body_model.neck_length:.3f}m\")\n",
    "\n",
    "measurements = validate_skeleton(single_skeleton, body_model)\n",
    "print(f\"\\nActual measurements:\")\n",
    "for key, value in measurements.items():\n",
    "    print(f\"  {key}: {value:.3f}m\")\n",
    "\n",
    "# Calculate errors\n",
    "print(f\"\\nMeasurement errors:\")\n",
    "if 'left_upper_arm' in measurements:\n",
    "    error = abs(measurements['left_upper_arm'] - body_model.upper_arm_length)\n",
    "    print(f\"  Left upper arm error: {error:.3f}m ({error/body_model.upper_arm_length*100:.1f}%)\")\n",
    "if 'right_upper_arm' in measurements:\n",
    "    error = abs(measurements['right_upper_arm'] - body_model.upper_arm_length)\n",
    "    print(f\"  Right upper arm error: {error:.3f}m ({error/body_model.upper_arm_length*100:.1f}%)\")\n",
    "if 'shoulder_width' in measurements:\n",
    "    error = abs(measurements['shoulder_width'] - body_model.shoulder_width)\n",
    "    print(f\"  Shoulder width error: {error:.3f}m ({error/body_model.shoulder_width*100:.1f}%)\")\n",
    "if 'neck_length' in measurements:\n",
    "    error = abs(measurements['neck_length'] - body_model.neck_length)\n",
    "    print(f\"  Neck length error: {error:.3f}m ({error/body_model.neck_length*100:.1f}%)\")"
   ]
  },
  {
   "cell_type": "markdown",
   "id": "cb8f6b32",
   "metadata": {},
   "source": [
    "## 13. Interactive Slider Visualization\n",
    "\n",
    "Create an interactive Plotly visualization with a slider to scrub through all frames."
   ]
  },
  {
   "cell_type": "code",
   "execution_count": null,
   "id": "266e2e6b",
   "metadata": {},
   "outputs": [],
   "source": [
    "def create_interactive_skeleton_viewer(head_positions, head_orientations,\n",
    "                                      left_wrist_pos, right_wrist_pos,\n",
    "                                      left_forearm_pos, right_forearm_pos,\n",
    "                                      body_model, step=1):\n",
    "    \"\"\"\n",
    "    Create an interactive Plotly figure with slider to view skeleton across all frames.\n",
    "    \n",
    "    Args:\n",
    "        step: Frame step size (use higher values for faster loading with many frames)\n",
    "    \"\"\"\n",
    "    # Determine the minimum frame count across all data sources\n",
    "    num_frames = min(len(head_positions), len(left_wrist_pos), len(right_wrist_pos),\n",
    "                     len(left_forearm_pos), len(right_forearm_pos))\n",
    "    frame_indices = list(range(0, num_frames, step))\n",
    "    \n",
    "    print(f\"Creating interactive viewer for {len(frame_indices)} frames (every {step} frame(s))...\")\n",
    "    print(f\"Total frames available: {num_frames}\")\n",
    "    \n",
    "    # Pre-compute all skeletons\n",
    "    skeletons = []\n",
    "    for idx in frame_indices:\n",
    "        skeleton = reconstruct_skeleton(\n",
    "            idx,\n",
    "            head_positions[idx],\n",
    "            head_orientations[idx],\n",
    "            left_wrist_pos[idx],\n",
    "            right_wrist_pos[idx],\n",
    "            left_forearm_pos[idx],\n",
    "            right_forearm_pos[idx],\n",
    "            body_model\n",
    "        )\n",
    "        skeletons.append(skeleton)\n",
    "    \n",
    "    # Define skeleton connections (bones)\n",
    "    connections = [\n",
    "        ('head', 'neck'),\n",
    "        ('neck', 'upper_spine'),\n",
    "        ('upper_spine', 'mid_spine'),\n",
    "        ('mid_spine', 'lower_spine'),\n",
    "        ('upper_spine', 'left_shoulder'),\n",
    "        ('upper_spine', 'right_shoulder'),\n",
    "        ('left_shoulder', 'left_elbow'),\n",
    "        ('left_elbow', 'left_wrist'),\n",
    "        ('right_shoulder', 'right_elbow'),\n",
    "        ('right_elbow', 'right_wrist'),\n",
    "    ]\n",
    "    \n",
    "    # Create figure\n",
    "    fig = go.Figure()\n",
    "    \n",
    "    # Add traces for the first frame\n",
    "    skeleton = skeletons[0]\n",
    "    joints = skeleton.get_all_joints()\n",
    "    \n",
    "    # Add bone lines\n",
    "    for start_joint, end_joint in connections:\n",
    "        if joints[start_joint] is not None and joints[end_joint] is not None:\n",
    "            start_pos = joints[start_joint]\n",
    "            end_pos = joints[end_joint]\n",
    "            \n",
    "            fig.add_trace(go.Scatter3d(\n",
    "                x=[start_pos[0], end_pos[0]],\n",
    "                y=[start_pos[1], end_pos[1]],\n",
    "                z=[start_pos[2], end_pos[2]],\n",
    "                mode='lines',\n",
    "                line=dict(color='gray', width=4),\n",
    "                showlegend=False,\n",
    "                name=f'{start_joint}-{end_joint}'\n",
    "            ))\n",
    "    \n",
    "    # Add joint markers\n",
    "    for joint_name, joint_pos in joints.items():\n",
    "        if joint_pos is not None:\n",
    "            # Color code: red for head, blue for spine, green for arms\n",
    "            if 'head' in joint_name:\n",
    "                color = 'red'\n",
    "                size = 12\n",
    "            elif 'spine' in joint_name or 'neck' in joint_name:\n",
    "                color = 'blue'\n",
    "                size = 8\n",
    "            else:\n",
    "                color = 'green'\n",
    "                size = 8\n",
    "            \n",
    "            fig.add_trace(go.Scatter3d(\n",
    "                x=[joint_pos[0]],\n",
    "                y=[joint_pos[1]],\n",
    "                z=[joint_pos[2]],\n",
    "                mode='markers',\n",
    "                marker=dict(size=size, color=color),\n",
    "                name=joint_name\n",
    "            ))\n",
    "    \n",
    "    # Create frames for animation\n",
    "    frames = []\n",
    "    for i, (frame_idx, skeleton) in enumerate(zip(frame_indices, skeletons)):\n",
    "        joints = skeleton.get_all_joints()\n",
    "        \n",
    "        frame_data = []\n",
    "        \n",
    "        # Add bone lines for this frame\n",
    "        for start_joint, end_joint in connections:\n",
    "            if joints[start_joint] is not None and joints[end_joint] is not None:\n",
    "                start_pos = joints[start_joint]\n",
    "                end_pos = joints[end_joint]\n",
    "                \n",
    "                frame_data.append(go.Scatter3d(\n",
    "                    x=[start_pos[0], end_pos[0]],\n",
    "                    y=[start_pos[1], end_pos[1]],\n",
    "                    z=[start_pos[2], end_pos[2]],\n",
    "                    mode='lines',\n",
    "                    line=dict(color='gray', width=4),\n",
    "                    showlegend=False\n",
    "                ))\n",
    "        \n",
    "        # Add joint markers for this frame\n",
    "        for joint_name, joint_pos in joints.items():\n",
    "            if joint_pos is not None:\n",
    "                if 'head' in joint_name:\n",
    "                    color = 'red'\n",
    "                    size = 12\n",
    "                elif 'spine' in joint_name or 'neck' in joint_name:\n",
    "                    color = 'blue'\n",
    "                    size = 8\n",
    "                else:\n",
    "                    color = 'green'\n",
    "                    size = 8\n",
    "                \n",
    "                frame_data.append(go.Scatter3d(\n",
    "                    x=[joint_pos[0]],\n",
    "                    y=[joint_pos[1]],\n",
    "                    z=[joint_pos[2]],\n",
    "                    mode='markers',\n",
    "                    marker=dict(size=size, color=color),\n",
    "                    name=joint_name\n",
    "                ))\n",
    "        \n",
    "        frames.append(go.Frame(\n",
    "            data=frame_data,\n",
    "            name=str(frame_idx),\n",
    "            layout=go.Layout(title_text=f\"Frame {frame_idx}\")\n",
    "        ))\n",
    "    \n",
    "    fig.frames = frames\n",
    "    \n",
    "    # Create slider\n",
    "    sliders = [dict(\n",
    "        active=0,\n",
    "        yanchor=\"top\",\n",
    "        y=0,\n",
    "        xanchor=\"left\",\n",
    "        x=0.1,\n",
    "        currentvalue=dict(\n",
    "            prefix=\"Frame: \",\n",
    "            visible=True,\n",
    "            xanchor=\"right\"\n",
    "        ),\n",
    "        steps=[dict(\n",
    "            method=\"animate\",\n",
    "            args=[\n",
    "                [str(frame_idx)],\n",
    "                dict(\n",
    "                    mode=\"immediate\",\n",
    "                    frame=dict(duration=0, redraw=True),\n",
    "                    transition=dict(duration=0)\n",
    "                )\n",
    "            ],\n",
    "            label=str(frame_idx)\n",
    "        ) for frame_idx in frame_indices]\n",
    "    )]\n",
    "    \n",
    "    # Update layout\n",
    "    fig.update_layout(\n",
    "        title=\"Interactive Skeleton Viewer - Use Slider to Scrub Through Frames\",\n",
    "        scene=dict(\n",
    "            xaxis_title='X (m)',\n",
    "            yaxis_title='Y (m)',\n",
    "            zaxis_title='Z (m)',\n",
    "            aspectmode='data'\n",
    "        ),\n",
    "        width=1000,\n",
    "        height=800,\n",
    "        sliders=sliders,\n",
    "        updatemenus=[dict(\n",
    "            type=\"buttons\",\n",
    "            direction=\"left\",\n",
    "            x=0.1,\n",
    "            y=1.15,\n",
    "            buttons=[\n",
    "                dict(label=\"Play\",\n",
    "                     method=\"animate\",\n",
    "                     args=[None, dict(\n",
    "                         frame=dict(duration=50, redraw=True),\n",
    "                         fromcurrent=True,\n",
    "                         transition=dict(duration=0)\n",
    "                     )]),\n",
    "                dict(label=\"Pause\",\n",
    "                     method=\"animate\",\n",
    "                     args=[[None], dict(\n",
    "                         frame=dict(duration=0, redraw=False),\n",
    "                         mode=\"immediate\",\n",
    "                         transition=dict(duration=0)\n",
    "                     )])\n",
    "            ]\n",
    "        )]\n",
    "    )\n",
    "    \n",
    "    print(\"Interactive viewer created!\")\n",
    "    return fig\n",
    "\n",
    "# Create the interactive viewer\n",
    "# Use step=1 for all frames, or higher values (e.g., step=5) for faster loading\n",
    "interactive_fig = create_interactive_skeleton_viewer(\n",
    "    head_positions, head_orientations,\n",
    "    left_wrist_pos, right_wrist_pos,\n",
    "    left_forearm_pos, right_forearm_pos,\n",
    "    body_model,\n",
    "    step=2  # Every 2nd frame for performance\n",
    ")\n",
    "\n",
    "interactive_fig.show()"
   ]
  },
  {
   "cell_type": "code",
   "execution_count": null,
   "id": "8f921e5a-41dc-4ea9-b275-d5a788e5d911",
   "metadata": {},
   "outputs": [],
   "source": [
    "# Create comprehensive output CSV with all joint data\n",
    "print(\"Creating comprehensive joint data CSV...\")\n",
    "\n",
    "# Determine the number of frames\n",
    "num_frames = min(len(head_positions), len(left_wrist_pos), len(right_wrist_pos),\n",
    "                 len(left_forearm_pos), len(right_forearm_pos))\n",
    "\n",
    "print(f\"Processing {num_frames} frames...\")\n",
    "\n",
    "# Initialize lists to store all joint data\n",
    "output_data = []\n",
    "\n",
    "for frame_idx in range(num_frames):\n",
    "    # Reconstruct skeleton for this frame\n",
    "    skeleton = reconstruct_skeleton(\n",
    "        frame_idx,\n",
    "        head_positions[frame_idx],\n",
    "        head_orientations[frame_idx],\n",
    "        left_wrist_pos[frame_idx],\n",
    "        right_wrist_pos[frame_idx],\n",
    "        left_forearm_pos[frame_idx],\n",
    "        right_forearm_pos[frame_idx],\n",
    "        body_model\n",
    "    )\n",
    "    \n",
    "    # Get all joints\n",
    "    joints = skeleton.get_all_joints()\n",
    "    \n",
    "    # Create row dictionary with timestamp\n",
    "    row = {\n",
    "        'frame': frame_idx,\n",
    "        't_mono': hand_timestamps[frame_idx]\n",
    "    }\n",
    "    \n",
    "    # Add reconstructed joint positions\n",
    "    for joint_name, joint_pos in joints.items():\n",
    "        if joint_pos is not None:\n",
    "            row[f'{joint_name}_x'] = joint_pos[0]\n",
    "            row[f'{joint_name}_y'] = joint_pos[1]\n",
    "            row[f'{joint_name}_z'] = joint_pos[2]\n",
    "    \n",
    "    # Add head orientation (quaternion)\n",
    "    row['head_qx'] = head_orientations[frame_idx][0]\n",
    "    row['head_qy'] = head_orientations[frame_idx][1]\n",
    "    row['head_qz'] = head_orientations[frame_idx][2]\n",
    "    row['head_qw'] = head_orientations[frame_idx][3]\n",
    "    \n",
    "    # Add right hand finger joints from original hand data\n",
    "    right_hand_frame = hand_data[hand_data['chirality'] == 'right'].iloc[frame_idx]\n",
    "    \n",
    "    # List of finger joints to include\n",
    "    finger_joints = [\n",
    "        'thumbKnuckle', 'thumbIntermediateBase', 'thumbIntermediateTip', 'thumbTip',\n",
    "        'indexFingerMetacarpal', 'indexFingerKnuckle', 'indexFingerIntermediateBase', \n",
    "        'indexFingerIntermediateTip', 'indexFingerTip',\n",
    "        'middleFingerMetacarpal', 'middleFingerKnuckle', 'middleFingerIntermediateBase',\n",
    "        'middleFingerIntermediateTip', 'middleFingerTip',\n",
    "        'ringFingerMetacarpal', 'ringFingerKnuckle', 'ringFingerIntermediateBase',\n",
    "        'ringFingerIntermediateTip', 'ringFingerTip',\n",
    "        'littleFingerMetacarpal', 'littleFingerKnuckle', 'littleFingerIntermediateBase',\n",
    "        'littleFingerIntermediateTip', 'littleFingerTip'\n",
    "    ]\n",
    "    \n",
    "    # Add right hand finger data\n",
    "    for joint in finger_joints:\n",
    "        if f'{joint}_px' in right_hand_frame.index:\n",
    "            row[f'right_{joint}_x'] = right_hand_frame[f'{joint}_px']\n",
    "            row[f'right_{joint}_y'] = right_hand_frame[f'{joint}_py']\n",
    "            row[f'right_{joint}_z'] = right_hand_frame[f'{joint}_pz']\n",
    "            row[f'right_{joint}_qx'] = right_hand_frame[f'{joint}_qx']\n",
    "            row[f'right_{joint}_qy'] = right_hand_frame[f'{joint}_qy']\n",
    "            row[f'right_{joint}_qz'] = right_hand_frame[f'{joint}_qz']\n",
    "            row[f'right_{joint}_qw'] = right_hand_frame[f'{joint}_qw']\n",
    "    \n",
    "    # Add left hand finger joints from original hand data\n",
    "    left_hand_frame = hand_data[hand_data['chirality'] == 'left'].iloc[frame_idx]\n",
    "    \n",
    "    # Add left hand finger data\n",
    "    for joint in finger_joints:\n",
    "        if f'{joint}_px' in left_hand_frame.index:\n",
    "            row[f'left_{joint}_x'] = left_hand_frame[f'{joint}_px']\n",
    "            row[f'left_{joint}_y'] = left_hand_frame[f'{joint}_py']\n",
    "            row[f'left_{joint}_z'] = left_hand_frame[f'{joint}_pz']\n",
    "            row[f'left_{joint}_qx'] = left_hand_frame[f'{joint}_qx']\n",
    "            row[f'left_{joint}_qy'] = left_hand_frame[f'{joint}_qy']\n",
    "            row[f'left_{joint}_qz'] = left_hand_frame[f'{joint}_qz']\n",
    "            row[f'left_{joint}_qw'] = left_hand_frame[f'{joint}_qw']\n",
    "    \n",
    "    output_data.append(row)\n",
    "    \n",
    "    # Progress indicator\n",
    "    if (frame_idx + 1) % 500 == 0:\n",
    "        print(f\"  Processed {frame_idx + 1}/{num_frames} frames...\")\n",
    "\n",
    "# Create DataFrame\n",
    "output_df = pd.DataFrame(output_data)\n",
    "\n",
    "print(f\"\\nDataFrame created with shape: {output_df.shape}\")\n",
    "print(f\"Columns: {len(output_df.columns)}\")\n",
    "\n",
    "# Save to CSV\n",
    "output_filename = 'Prototype/Data/complete_skeleton_data.csv'\n",
    "output_df.to_csv(output_filename, index=False)\n",
    "\n",
    "print(f\"\\n✓ Saved to: {output_filename}\")\n",
    "print(f\"\\nColumn breakdown:\")\n",
    "print(f\"  - Frame/timestamp: 2 columns\")\n",
    "print(f\"  - Reconstructed skeleton joints: {len([col for col in output_df.columns if col.endswith(('_x', '_y', '_z')) and not any(finger in col for finger in finger_joints)])} columns\")\n",
    "print(f\"  - Head orientation: 4 columns\")\n",
    "print(f\"  - Finger data: {len([col for col in output_df.columns if any(finger in col for finger in finger_joints)])} columns\")\n",
    "print(f\"  - Total: {len(output_df.columns)} columns\")\n",
    "\n",
    "# Show sample of data\n",
    "print(\"\\nFirst few rows:\")\n",
    "output_df.head()"
   ]
  },
  {
   "cell_type": "code",
   "execution_count": null,
   "id": "040f2327-7879-413f-8999-1d358ebb2318",
   "metadata": {},
   "outputs": [],
   "source": []
  },
  {
   "cell_type": "code",
   "execution_count": 24,
   "id": "04eaca59-a571-47ca-ab99-19238b2a5323",
   "metadata": {
    "scrolled": true
   },
   "outputs": [
    {
     "name": "stdout",
     "output_type": "stream",
     "text": [
      "Loading skeleton data...\n",
      "Loaded 2401 frames\n",
      "Creating sleek dark-themed animation...\n",
      "  Processed 100/1201 frames...\n"
     ]
    },
    {
     "ename": "KeyboardInterrupt",
     "evalue": "",
     "output_type": "error",
     "traceback": [
      "\u001b[31m---------------------------------------------------------------------------\u001b[39m",
      "\u001b[31mKeyboardInterrupt\u001b[39m                         Traceback (most recent call last)",
      "\u001b[36mFile \u001b[39m\u001b[32m/opt/homebrew/Cellar/jupyterlab/4.4.9/libexec/lib/python3.13/site-packages/zmq/backend/cython/_zmq.py:179\u001b[39m, in \u001b[36mzmq.backend.cython._zmq._check_rc\u001b[39m\u001b[34m()\u001b[39m\n",
      "\u001b[31mKeyboardInterrupt\u001b[39m: "
     ]
    },
    {
     "name": "stderr",
     "output_type": "stream",
     "text": [
      "Exception ignored in: 'zmq.backend.cython._zmq.Frame.__dealloc__'\n",
      "Traceback (most recent call last):\n",
      "  File \"zmq/backend/cython/_zmq.py\", line 179, in zmq.backend.cython._zmq._check_rc\n",
      "KeyboardInterrupt: \n"
     ]
    },
    {
     "name": "stdout",
     "output_type": "stream",
     "text": [
      "  Processed 200/1201 frames...\n",
      "  Processed 300/1201 frames...\n"
     ]
    },
    {
     "ename": "KeyboardInterrupt",
     "evalue": "",
     "output_type": "error",
     "traceback": [
      "\u001b[31m---------------------------------------------------------------------------\u001b[39m",
      "\u001b[31mKeyboardInterrupt\u001b[39m                         Traceback (most recent call last)",
      "\u001b[32m/var/folders/bh/t6pq_fqj4nv1dz6l5rlqb3m40000gq/T/ipykernel_86491/342172828.py\u001b[39m in \u001b[36m?\u001b[39m\u001b[34m()\u001b[39m\n\u001b[32m    199\u001b[39m frame_indices = list(range(\u001b[32m0\u001b[39m, len(df), step))\n\u001b[32m    200\u001b[39m frames = []\n\u001b[32m    201\u001b[39m \n\u001b[32m    202\u001b[39m \u001b[38;5;28;01mfor\u001b[39;00m i, frame_idx \u001b[38;5;28;01min\u001b[39;00m enumerate(frame_indices):\n\u001b[32m--> \u001b[39m\u001b[32m203\u001b[39m     frame_data = create_skeleton_frame_data(df, frame_idx)\n\u001b[32m    204\u001b[39m     frames.append(go.Frame(\n\u001b[32m    205\u001b[39m         data=frame_data,\n\u001b[32m    206\u001b[39m         name=str(frame_idx)\n",
      "\u001b[32m/var/folders/bh/t6pq_fqj4nv1dz6l5rlqb3m40000gq/T/ipykernel_86491/342172828.py\u001b[39m in \u001b[36m?\u001b[39m\u001b[34m(df, frame_idx)\u001b[39m\n\u001b[32m    144\u001b[39m             \u001b[38;5;28;01mfor\u001b[39;00m i \u001b[38;5;28;01min\u001b[39;00m range(len(joints) - \u001b[32m1\u001b[39m):\n\u001b[32m    145\u001b[39m                 joint1 = f'{hand}_{joints[i]}'\n\u001b[32m    146\u001b[39m                 joint2 = f'{hand}_{joints[i+\u001b[32m1\u001b[39m]}'\n\u001b[32m    147\u001b[39m \n\u001b[32m--> \u001b[39m\u001b[32m148\u001b[39m                 pos1 = get_joint_position(df, frame_idx, joint1)\n\u001b[32m    149\u001b[39m                 pos2 = get_joint_position(df, frame_idx, joint2)\n\u001b[32m    150\u001b[39m \n\u001b[32m    151\u001b[39m                 \u001b[38;5;28;01mif\u001b[39;00m pos1 \u001b[38;5;28;01mis\u001b[39;00m \u001b[38;5;28;01mnot\u001b[39;00m \u001b[38;5;28;01mNone\u001b[39;00m \u001b[38;5;28;01mand\u001b[39;00m pos2 \u001b[38;5;28;01mis\u001b[39;00m \u001b[38;5;28;01mnot\u001b[39;00m \u001b[38;5;28;01mNone\u001b[39;00m:\n",
      "\u001b[32m/var/folders/bh/t6pq_fqj4nv1dz6l5rlqb3m40000gq/T/ipykernel_86491/342172828.py\u001b[39m in \u001b[36m?\u001b[39m\u001b[34m(df, frame_idx, joint_name)\u001b[39m\n\u001b[32m     82\u001b[39m \u001b[38;5;28;01mdef\u001b[39;00m get_joint_position(df, frame_idx, joint_name):\n\u001b[32m     83\u001b[39m     \u001b[33m\"\"\"Extract 3D position for a joint at a specific frame.\"\"\"\u001b[39m\n\u001b[32m---> \u001b[39m\u001b[32m84\u001b[39m     row = df.iloc[frame_idx]\n\u001b[32m     85\u001b[39m     x_col = f'{joint_name}_x'\n\u001b[32m     86\u001b[39m     y_col = f'{joint_name}_y'\n\u001b[32m     87\u001b[39m     z_col = f'{joint_name}_z'\n",
      "\u001b[32m/opt/homebrew/Cellar/jupyterlab/4.4.9/libexec/lib/python3.13/site-packages/pandas/core/indexing.py\u001b[39m in \u001b[36m?\u001b[39m\u001b[34m(self, key)\u001b[39m\n\u001b[32m   1188\u001b[39m             axis = self.axis \u001b[38;5;28;01mor\u001b[39;00m \u001b[32m0\u001b[39m\n\u001b[32m   1189\u001b[39m \n\u001b[32m   1190\u001b[39m             maybe_callable = com.apply_if_callable(key, self.obj)\n\u001b[32m   1191\u001b[39m             maybe_callable = self._check_deprecated_callable_usage(key, maybe_callable)\n\u001b[32m-> \u001b[39m\u001b[32m1192\u001b[39m             \u001b[38;5;28;01mreturn\u001b[39;00m self._getitem_axis(maybe_callable, axis=axis)\n",
      "\u001b[32m/opt/homebrew/Cellar/jupyterlab/4.4.9/libexec/lib/python3.13/site-packages/pandas/core/indexing.py\u001b[39m in \u001b[36m?\u001b[39m\u001b[34m(self, key, axis)\u001b[39m\n\u001b[32m   1751\u001b[39m \n\u001b[32m   1752\u001b[39m             \u001b[38;5;66;03m# validate the location\u001b[39;00m\n\u001b[32m   1753\u001b[39m             self._validate_integer(key, axis)\n\u001b[32m   1754\u001b[39m \n\u001b[32m-> \u001b[39m\u001b[32m1755\u001b[39m             \u001b[38;5;28;01mreturn\u001b[39;00m self.obj._ixs(key, axis=axis)\n",
      "\u001b[32m/opt/homebrew/Cellar/jupyterlab/4.4.9/libexec/lib/python3.13/site-packages/pandas/core/frame.py\u001b[39m in \u001b[36m?\u001b[39m\u001b[34m(self, i, axis)\u001b[39m\n\u001b[32m   4007\u001b[39m             new_mgr = self._mgr.fast_xs(i)\n\u001b[32m   4008\u001b[39m \n\u001b[32m   4009\u001b[39m             \u001b[38;5;66;03m# if we are a copy, mark as such\u001b[39;00m\n\u001b[32m   4010\u001b[39m             copy = isinstance(new_mgr.array, np.ndarray) \u001b[38;5;28;01mand\u001b[39;00m new_mgr.array.base \u001b[38;5;28;01mis\u001b[39;00m \u001b[38;5;28;01mNone\u001b[39;00m\n\u001b[32m-> \u001b[39m\u001b[32m4011\u001b[39m             result = self._constructor_sliced_from_mgr(new_mgr, axes=new_mgr.axes)\n\u001b[32m   4012\u001b[39m             result._name = self.index[i]\n\u001b[32m   4013\u001b[39m             result = result.__finalize__(self)\n\u001b[32m   4014\u001b[39m             result._set_is_copy(self, copy=copy)\n",
      "\u001b[32m/opt/homebrew/Cellar/jupyterlab/4.4.9/libexec/lib/python3.13/site-packages/pandas/core/frame.py\u001b[39m in \u001b[36m?\u001b[39m\u001b[34m(self, mgr, axes)\u001b[39m\n\u001b[32m    682\u001b[39m     \u001b[38;5;28;01mdef\u001b[39;00m _constructor_sliced_from_mgr(self, mgr, axes) -> Series:\n\u001b[32m    683\u001b[39m         ser = Series._from_mgr(mgr, axes)\n\u001b[32m--> \u001b[39m\u001b[32m684\u001b[39m         ser._name = \u001b[38;5;28;01mNone\u001b[39;00m  \u001b[38;5;66;03m# caller is responsible for setting real name\u001b[39;00m\n\u001b[32m    685\u001b[39m \n\u001b[32m    686\u001b[39m         \u001b[38;5;28;01mif\u001b[39;00m type(self) \u001b[38;5;28;01mis\u001b[39;00m DataFrame:\n\u001b[32m    687\u001b[39m             \u001b[38;5;66;03m# This would also work `if self._constructor_sliced is Series`, but\u001b[39;00m\n",
      "\u001b[32m/opt/homebrew/Cellar/jupyterlab/4.4.9/libexec/lib/python3.13/site-packages/pandas/core/generic.py\u001b[39m in \u001b[36m?\u001b[39m\u001b[34m(self, name, value)\u001b[39m\n\u001b[32m   6338\u001b[39m \n\u001b[32m   6339\u001b[39m         \u001b[38;5;66;03m# if this fails, go on to more involved attribute setting\u001b[39;00m\n\u001b[32m   6340\u001b[39m         \u001b[38;5;66;03m# (note that this matches __getattr__, above).\u001b[39;00m\n\u001b[32m   6341\u001b[39m         \u001b[38;5;28;01mif\u001b[39;00m name \u001b[38;5;28;01min\u001b[39;00m self._internal_names_set:\n\u001b[32m-> \u001b[39m\u001b[32m6342\u001b[39m             object.__setattr__(self, name, value)\n\u001b[32m   6343\u001b[39m         \u001b[38;5;28;01melif\u001b[39;00m name \u001b[38;5;28;01min\u001b[39;00m self._metadata:\n\u001b[32m   6344\u001b[39m             object.__setattr__(self, name, value)\n\u001b[32m   6345\u001b[39m         \u001b[38;5;28;01melse\u001b[39;00m:\n",
      "\u001b[31mKeyboardInterrupt\u001b[39m: "
     ]
    }
   ],
   "source": [
    "# Standalone 3D Skeleton Animation Viewer with Fingers - Dark Modern Theme\n",
    "# This cell works independently - just run it!\n",
    "\n",
    "import pandas as pd\n",
    "import numpy as np\n",
    "import plotly.graph_objects as go\n",
    "\n",
    "# Load the complete skeleton data\n",
    "print(\"Loading skeleton data...\")\n",
    "df = pd.read_csv('/Users/Patron/Documents/holos/test/complete_skeleton_data.csv')\n",
    "print(f\"Loaded {len(df)} frames\")\n",
    "\n",
    "# Define skeleton structure (connections between joints)\n",
    "skeleton_connections = [\n",
    "    # Spine\n",
    "    ('head', 'neck'),\n",
    "    ('neck', 'upper_spine'),\n",
    "    ('upper_spine', 'mid_spine'),\n",
    "    ('mid_spine', 'lower_spine'),\n",
    "    \n",
    "    # Shoulders\n",
    "    ('upper_spine', 'left_shoulder'),\n",
    "    ('upper_spine', 'right_shoulder'),\n",
    "    \n",
    "    # Arms\n",
    "    ('left_shoulder', 'left_elbow'),\n",
    "    ('left_elbow', 'left_wrist'),\n",
    "    ('right_shoulder', 'right_elbow'),\n",
    "    ('right_elbow', 'right_wrist'),\n",
    "]\n",
    "\n",
    "# Define finger connections for both hands\n",
    "finger_joints = {\n",
    "    'right': {\n",
    "        'thumb': ['thumbKnuckle', 'thumbIntermediateBase', 'thumbIntermediateTip', 'thumbTip'],\n",
    "        'index': ['indexFingerMetacarpal', 'indexFingerKnuckle', 'indexFingerIntermediateBase', \n",
    "                  'indexFingerIntermediateTip', 'indexFingerTip'],\n",
    "        'middle': ['middleFingerMetacarpal', 'middleFingerKnuckle', 'middleFingerIntermediateBase',\n",
    "                   'middleFingerIntermediateTip', 'middleFingerTip'],\n",
    "        'ring': ['ringFingerMetacarpal', 'ringFingerKnuckle', 'ringFingerIntermediateBase',\n",
    "                 'ringFingerIntermediateTip', 'ringFingerTip'],\n",
    "        'little': ['littleFingerMetacarpal', 'littleFingerKnuckle', 'littleFingerIntermediateBase',\n",
    "                   'littleFingerIntermediateTip', 'littleFingerTip'],\n",
    "    },\n",
    "    'left': {\n",
    "        'thumb': ['thumbKnuckle', 'thumbIntermediateBase', 'thumbIntermediateTip', 'thumbTip'],\n",
    "        'index': ['indexFingerMetacarpal', 'indexFingerKnuckle', 'indexFingerIntermediateBase',\n",
    "                  'indexFingerIntermediateTip', 'indexFingerTip'],\n",
    "        'middle': ['middleFingerMetacarpal', 'middleFingerKnuckle', 'middleFingerIntermediateBase',\n",
    "                   'middleFingerIntermediateTip', 'middleFingerTip'],\n",
    "        'ring': ['ringFingerMetacarpal', 'ringFingerKnuckle', 'ringFingerIntermediateBase',\n",
    "                 'ringFingerIntermediateTip', 'ringFingerTip'],\n",
    "        'little': ['littleFingerMetacarpal', 'littleFingerKnuckle', 'littleFingerIntermediateBase',\n",
    "                   'littleFingerIntermediateTip', 'littleFingerTip'],\n",
    "    }\n",
    "}\n",
    "\n",
    "# Modern neon-style colors for dark theme\n",
    "joint_styles = {\n",
    "    'head': {'color': '#FF6B9D', 'size': 16, 'glow': 'rgba(255, 107, 157, 0.8)'},\n",
    "    'neck': {'color': '#00D9FF', 'size': 11, 'glow': 'rgba(0, 217, 255, 0.8)'},\n",
    "    'upper_spine': {'color': '#00D9FF', 'size': 10, 'glow': 'rgba(0, 217, 255, 0.8)'},\n",
    "    'mid_spine': {'color': '#00D9FF', 'size': 10, 'glow': 'rgba(0, 217, 255, 0.8)'},\n",
    "    'lower_spine': {'color': '#00D9FF', 'size': 10, 'glow': 'rgba(0, 217, 255, 0.8)'},\n",
    "    'left_shoulder': {'color': '#7B68EE', 'size': 13, 'glow': 'rgba(123, 104, 238, 0.8)'},\n",
    "    'right_shoulder': {'color': '#7B68EE', 'size': 13, 'glow': 'rgba(123, 104, 238, 0.8)'},\n",
    "    'left_elbow': {'color': '#00FFA3', 'size': 11, 'glow': 'rgba(0, 255, 163, 0.8)'},\n",
    "    'right_elbow': {'color': '#00FFA3', 'size': 11, 'glow': 'rgba(0, 255, 163, 0.8)'},\n",
    "    'left_wrist': {'color': '#FFD93D', 'size': 11, 'glow': 'rgba(255, 217, 61, 0.8)'},\n",
    "    'right_wrist': {'color': '#FFD93D', 'size': 11, 'glow': 'rgba(255, 217, 61, 0.8)'},\n",
    "}\n",
    "\n",
    "# Vibrant finger colors for dark theme\n",
    "finger_colors = {\n",
    "    'thumb': '#FF8C42',    # Orange\n",
    "    'index': '#FF6B9D',    # Pink\n",
    "    'middle': '#C780FA',   # Purple\n",
    "    'ring': '#00D9FF',     # Cyan\n",
    "    'little': '#7FFF00',   # Chartreuse\n",
    "}\n",
    "\n",
    "def get_joint_position(df, frame_idx, joint_name):\n",
    "    \"\"\"Extract 3D position for a joint at a specific frame.\"\"\"\n",
    "    row = df.iloc[frame_idx]\n",
    "    x_col = f'{joint_name}_x'\n",
    "    y_col = f'{joint_name}_y'\n",
    "    z_col = f'{joint_name}_z'\n",
    "    \n",
    "    if x_col in row and y_col in row and z_col in row:\n",
    "        return np.array([row[x_col], row[y_col], row[z_col]])\n",
    "    return None\n",
    "\n",
    "def create_skeleton_frame_data(df, frame_idx):\n",
    "    \"\"\"Create trace data for a single frame with modern styling.\"\"\"\n",
    "    traces = []\n",
    "    \n",
    "    # Add body bones with gradient effect\n",
    "    for start_joint, end_joint in skeleton_connections:\n",
    "        start_pos = get_joint_position(df, frame_idx, start_joint)\n",
    "        end_pos = get_joint_position(df, frame_idx, end_joint)\n",
    "        \n",
    "        if start_pos is not None and end_pos is not None:\n",
    "            traces.append(go.Scatter3d(\n",
    "                x=[start_pos[0], end_pos[0]],\n",
    "                y=[start_pos[1], end_pos[1]],\n",
    "                z=[start_pos[2], end_pos[2]],\n",
    "                mode='lines',\n",
    "                line=dict(\n",
    "                    color='rgba(100, 200, 255, 0.6)',\n",
    "                    width=8\n",
    "                ),\n",
    "                showlegend=False,\n",
    "                hoverinfo='skip'\n",
    "            ))\n",
    "    \n",
    "    # Add body joints with glow effect\n",
    "    for joint_name, style in joint_styles.items():\n",
    "        pos = get_joint_position(df, frame_idx, joint_name)\n",
    "        \n",
    "        if pos is not None:\n",
    "            traces.append(go.Scatter3d(\n",
    "                x=[pos[0]],\n",
    "                y=[pos[1]],\n",
    "                z=[pos[2]],\n",
    "                mode='markers',\n",
    "                marker=dict(\n",
    "                    size=style['size'],\n",
    "                    color=style['color'],\n",
    "                    line=dict(color=style['glow'], width=2),\n",
    "                    opacity=1.0\n",
    "                ),\n",
    "                name=joint_name.replace('_', ' ').title(),\n",
    "                showlegend=False,\n",
    "                hovertemplate=f\"<b>{joint_name}</b><br>\" +\n",
    "                             \"X: %{x:.3f}<br>Y: %{y:.3f}<br>Z: %{z:.3f}<extra></extra>\"\n",
    "            ))\n",
    "    \n",
    "    # Add fingers for both hands\n",
    "    for hand in ['right', 'left']:\n",
    "        for finger_name, joints in finger_joints[hand].items():\n",
    "            finger_color = finger_colors[finger_name]\n",
    "            \n",
    "            # Draw finger bones with smooth lines\n",
    "            for i in range(len(joints) - 1):\n",
    "                joint1 = f'{hand}_{joints[i]}'\n",
    "                joint2 = f'{hand}_{joints[i+1]}'\n",
    "                \n",
    "                pos1 = get_joint_position(df, frame_idx, joint1)\n",
    "                pos2 = get_joint_position(df, frame_idx, joint2)\n",
    "                \n",
    "                if pos1 is not None and pos2 is not None:\n",
    "                    traces.append(go.Scatter3d(\n",
    "                        x=[pos1[0], pos2[0]],\n",
    "                        y=[pos1[1], pos2[1]],\n",
    "                        z=[pos1[2], pos2[2]],\n",
    "                        mode='lines',\n",
    "                        line=dict(\n",
    "                            color=finger_color,\n",
    "                            width=5\n",
    "                        ),\n",
    "                        showlegend=False,\n",
    "                        hoverinfo='skip'\n",
    "                    ))\n",
    "            \n",
    "            # Draw finger joints with vibrant markers\n",
    "            for joint in joints:\n",
    "                joint_name = f'{hand}_{joint}'\n",
    "                pos = get_joint_position(df, frame_idx, joint_name)\n",
    "                \n",
    "                if pos is not None:\n",
    "                    marker_size = 6 if 'Tip' in joint else 5\n",
    "                    \n",
    "                    traces.append(go.Scatter3d(\n",
    "                        x=[pos[0]],\n",
    "                        y=[pos[1]],\n",
    "                        z=[pos[2]],\n",
    "                        mode='markers',\n",
    "                        marker=dict(\n",
    "                            size=marker_size,\n",
    "                            color=finger_color,\n",
    "                            line=dict(color='rgba(255, 255, 255, 0.3)', width=1),\n",
    "                            opacity=0.95\n",
    "                        ),\n",
    "                        showlegend=False,\n",
    "                        hovertemplate=f\"<b>{hand} {finger_name}</b><br>\" +\n",
    "                                     f\"{joint}<br>\" +\n",
    "                                     \"X: %{x:.3f}<br>Y: %{y:.3f}<br>Z: %{z:.3f}<extra></extra>\"\n",
    "                    ))\n",
    "    \n",
    "    return traces\n",
    "\n",
    "# Create initial figure with first frame\n",
    "print(\"Creating sleek dark-themed animation...\")\n",
    "initial_traces = create_skeleton_frame_data(df, 0)\n",
    "fig = go.Figure(data=initial_traces)\n",
    "\n",
    "# Create frames for animation\n",
    "step = 1\n",
    "\n",
    "frame_indices = list(range(0, len(df), step))\n",
    "frames = []\n",
    "\n",
    "for i, frame_idx in enumerate(frame_indices):\n",
    "    frame_data = create_skeleton_frame_data(df, frame_idx)\n",
    "    frames.append(go.Frame(\n",
    "        data=frame_data,\n",
    "        name=str(frame_idx)\n",
    "    ))\n",
    "    \n",
    "    if (i + 1) % 100 == 0:\n",
    "        print(f\"  Processed {i + 1}/{len(frame_indices)} frames...\")\n",
    "\n",
    "fig.frames = frames\n",
    "print(\"Animation frames created!\")\n",
    "\n",
    "# Create sleek slider\n",
    "sliders = [dict(\n",
    "    active=0,\n",
    "    yanchor=\"top\",\n",
    "    y=-0.05,\n",
    "    xanchor=\"left\",\n",
    "    x=0.05,\n",
    "    currentvalue=dict(\n",
    "        prefix=\"Frame: \",\n",
    "        visible=True,\n",
    "        xanchor=\"right\",\n",
    "        # font=dict(size=14, color=\"#00D9FF\")\n",
    "    ),\n",
    "    pad=dict(b=10, t=10),\n",
    "    len=0.9,\n",
    "    ticklen=0,\n",
    "    tickcolor='rgba(0, 217, 255, 0.3)',\n",
    "    bgcolor='rgba(30, 30, 40, 0.8)',\n",
    "    bordercolor='rgba(0, 217, 255, 0.5)',\n",
    "    borderwidth=1,\n",
    "    steps=[dict(\n",
    "        method=\"animate\",\n",
    "        args=[\n",
    "            [str(frame_idx)],\n",
    "            dict(\n",
    "                mode=\"immediate\",\n",
    "                frame=dict(duration=30, redraw=True),\n",
    "                transition=dict(duration=0)\n",
    "            )\n",
    "        ],\n",
    "        label=\"\"\n",
    "    ) for frame_idx in frame_indices]\n",
    ")]\n",
    "\n",
    "# Modern play/pause buttons\n",
    "updatemenus = [dict(\n",
    "    type=\"buttons\",\n",
    "    direction=\"left\",\n",
    "    x=0.05,\n",
    "    y=1.05,\n",
    "    xanchor=\"left\",\n",
    "    yanchor=\"top\",\n",
    "    showactive=True,\n",
    "    bgcolor='rgba(30, 30, 40, 0.8)',\n",
    "    bordercolor='rgba(0, 217, 255, 0.5)',\n",
    "    borderwidth=1,\n",
    "    buttons=[\n",
    "        dict(\n",
    "            label=\"▶ PLAY\",\n",
    "            method=\"animate\",\n",
    "            args=[None, dict(\n",
    "                frame=dict(duration=30, redraw=True),\n",
    "                fromcurrent=True,\n",
    "                transition=dict(duration=0),\n",
    "                mode=\"immediate\"\n",
    "            )],\n",
    "            # font=dict(color='#00FFA3', size=12)\n",
    "        ),\n",
    "        dict(\n",
    "            label=\"⏸ PAUSE\",\n",
    "            method=\"animate\",\n",
    "            args=[[None], dict(\n",
    "                frame=dict(duration=0, redraw=False),\n",
    "                mode=\"immediate\",\n",
    "                transition=dict(duration=0)\n",
    "            )],\n",
    "            # font=dict(color='#FF6B9D', size=12)\n",
    "        )\n",
    "    ]\n",
    ")]\n",
    "\n",
    "# Dark modern layout\n",
    "fig.update_layout(\n",
    "    title=dict(\n",
    "        text=\"<b style='color:#00D9FF'>MOTION CAPTURE</b><br>\" +\n",
    "             \"<span style='color:#888; font-size:14px'>Full Body Skeleton Tracking</span>\",\n",
    "        x=0.5,\n",
    "        xanchor='center',\n",
    "        y=0.98,\n",
    "        yanchor='top',\n",
    "        # font=dict(size=24)\n",
    "    ),\n",
    "    scene=dict(\n",
    "        xaxis=dict(\n",
    "            title=\"<b>X</b>\",\n",
    "            # titlefont=dict(color='#00D9FF', size=12),\n",
    "            backgroundcolor=\"rgb(15, 15, 20)\",\n",
    "            gridcolor=\"rgba(0, 217, 255, 0.15)\",\n",
    "            showbackground=True,\n",
    "            zerolinecolor=\"rgba(0, 217, 255, 0.3)\",\n",
    "            tickfont=dict(color='#888', size=10)\n",
    "        ),\n",
    "        yaxis=dict(\n",
    "            title=\"<b>Y</b>\",\n",
    "            # titlefont=dict(color='#00FFA3', size=12),\n",
    "            backgroundcolor=\"rgb(15, 15, 20)\",\n",
    "            gridcolor=\"rgba(0, 255, 163, 0.15)\",\n",
    "            showbackground=True,\n",
    "            zerolinecolor=\"rgba(0, 255, 163, 0.3)\",\n",
    "            tickfont=dict(color='#888', size=10)\n",
    "        ),\n",
    "        zaxis=dict(\n",
    "            title=\"<b>Z</b>\",\n",
    "            # titlefont=dict(color='#FF6B9D', size=12),\n",
    "            backgroundcolor=\"rgb(15, 15, 20)\",\n",
    "            gridcolor=\"rgba(255, 107, 157, 0.15)\",\n",
    "            showbackground=True,\n",
    "            zerolinecolor=\"rgba(255, 107, 157, 0.3)\",\n",
    "            tickfont=dict(color='#888', size=10)\n",
    "        ),\n",
    "        aspectmode='data',\n",
    "        camera=dict(\n",
    "            eye=dict(x=1.5, y=1.5, z=1.2),\n",
    "            center=dict(x=0, y=0, z=0)\n",
    "        )\n",
    "    ),\n",
    "    width=1400,\n",
    "    height=900,\n",
    "    sliders=sliders,\n",
    "    updatemenus=updatemenus,\n",
    "    hovermode='closest',\n",
    "    plot_bgcolor='rgb(10, 10, 15)',\n",
    "    paper_bgcolor='rgb(10, 10, 15)',\n",
    "    margin=dict(t=80, b=80, l=20, r=20),\n",
    "    # font=dict(color='#FFFFFF')\n",
    ")\n",
    "\n",
    "print(\"\\nPress PLAY or drag the slider to begin! 🎬\")\n",
    "fig.show()"
   ]
  }
 ],
 "metadata": {
  "kernelspec": {
   "display_name": "Python 3 (ipykernel)",
   "language": "python",
   "name": "python3"
  },
  "language_info": {
   "codemirror_mode": {
    "name": "ipython",
    "version": 3
   },
   "file_extension": ".py",
   "mimetype": "text/x-python",
   "name": "python",
   "nbconvert_exporter": "python",
   "pygments_lexer": "ipython3",
   "version": "3.13.8"
  }
 },
 "nbformat": 4,
 "nbformat_minor": 5
}
